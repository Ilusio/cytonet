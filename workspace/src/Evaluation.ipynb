{
 "cells": [
  {
   "cell_type": "markdown",
   "metadata": {},
   "source": [
    "# Imports "
   ]
  },
  {
   "cell_type": "code",
   "execution_count": null,
   "metadata": {
    "collapsed": true
   },
   "outputs": [],
   "source": [
    "from PIL import Image\n",
    "import numpy as np\n",
    "from skimage import measure\n",
    "import time\n",
    "import gc\n",
    "from matplotlib import pyplot as plt"
   ]
  },
  {
   "cell_type": "markdown",
   "metadata": {},
   "source": [
    "# Code excution"
   ]
  },
  {
   "cell_type": "code",
   "execution_count": null,
   "metadata": {},
   "outputs": [],
   "source": [
    "# Get the data\n",
    "mask = Image.open(\"/root/workspace/data/prediction_15-02.png\")\n",
    "maskArray = np.array(mask)\n",
    "maskArray = maskArray[:,:,0]/3 + maskArray[:,:,1]/3 + maskArray[:,:,2]/3"
   ]
  },
  {
   "cell_type": "code",
   "execution_count": null,
   "metadata": {
    "collapsed": true
   },
   "outputs": [],
   "source": [
    "# Split each the components\n",
    "FN = np.copy(maskArray)\n",
    "np.putmask(FN,FN!=85,0)\n",
    "\n",
    "FP = np.copy(maskArray)\n",
    "np.putmask(FP,FP!=170,0)\n",
    "\n",
    "TP = np.copy(maskArray)\n",
    "np.putmask(TP,TP!=255,0)\n",
    "\n",
    "all_white = maskArray\n",
    "np.putmask(all_white,all_white!=0,255)"
   ]
  },
  {
   "cell_type": "code",
   "execution_count": null,
   "metadata": {
    "collapsed": true
   },
   "outputs": [],
   "source": [
    "# Find the connected parts\n",
    "all_labels = measure.label(all_white)"
   ]
  },
  {
   "cell_type": "code",
   "execution_count": null,
   "metadata": {},
   "outputs": [],
   "source": [
    "# Free memory\n",
    "del maskArray\n",
    "del all_white\n",
    "gc.collect()"
   ]
  },
  {
   "cell_type": "code",
   "execution_count": null,
   "metadata": {
    "collapsed": true
   },
   "outputs": [],
   "source": [
    "# First version to find the connected parts with TP\n",
    "#start = time.time()\n",
    "#test = np.copy(all_labels)\n",
    "#for i in range(1,all_labels.max()+1):\n",
    "#    indexes = np.where(test==i)\n",
    "#    for j in range(len(indexes[0])):\n",
    "#        if(TP[indexes[0][j]][indexes[1][j]]!=0):\n",
    "#            np.putmask(test,test==i,255)\n",
    "#            break\n",
    "#np.putmask(test,test!=255,0)\n",
    "#end = time.time()\n",
    "#print(end - start)                  "
   ]
  },
  {
   "cell_type": "code",
   "execution_count": null,
   "metadata": {
    "collapsed": true
   },
   "outputs": [],
   "source": [
    "# Remove the FP and FN if they are onnected to a TP\n",
    "connected_labels = np.copy(all_labels)\n",
    "all_connected = np.copy(all_labels)\n",
    "TP_copy = np.copy(TP)\n",
    "\n",
    "# Number of different connected component\n",
    "max_val = connected_labels.max()\n",
    "\n",
    "np.putmask(TP_copy,TP_copy!=0,connected_labels.max())\n",
    "\n",
    "# Here is a trick : We add the number of parts to the component with TP, \n",
    "# thus we won't have the same labels for a already existing label and a new one\n",
    "connected_labels = connected_labels + TP_copy\n",
    "connected_labels = np.unique(connected_labels)\n",
    "\n",
    "# We retrieve the parts with TP\n",
    "indexes = np.where(connected_labels>max_val)\n",
    "connected_labels = np.delete(connected_labels, np.s_[:indexes[0][0]], axis=0)\n",
    "\n",
    "# And we put them in white\n",
    "for i in connected_labels:\n",
    "    np.putmask(all_connected,all_connected==i-max_val,-1)\n",
    "np.putmask(all_connected,all_connected>0,0)\n",
    "np.putmask(all_connected,all_connected==-1,255)"
   ]
  },
  {
   "cell_type": "code",
   "execution_count": null,
   "metadata": {},
   "outputs": [],
   "source": [
    "# Free memory\n",
    "del connected_labels\n",
    "del indexes\n",
    "del all_labels\n",
    "gc.collect()"
   ]
  },
  {
   "cell_type": "code",
   "execution_count": null,
   "metadata": {
    "collapsed": true
   },
   "outputs": [],
   "source": [
    "# Put the FN and FP on the result\n",
    "all_data = np.copy(all_connected)\n",
    "all_data += (FN + FP).astype(np.int64)\n",
    "np.putmask(all_data, all_data>255, 255)"
   ]
  },
  {
   "cell_type": "code",
   "execution_count": null,
   "metadata": {},
   "outputs": [],
   "source": [
    "# Free memory\n",
    "del all_connected\n",
    "gc.collect()"
   ]
  },
  {
   "cell_type": "code",
   "execution_count": null,
   "metadata": {},
   "outputs": [],
   "source": [
    "# Display the result\n",
    "plt.figure(figsize=(50,50))\n",
    "plt.subplot(131)\n",
    "plt.imshow(all_data, cmap='nipy_spectral')# Free memory\n",
    "plt.show()"
   ]
  },
  {
   "cell_type": "code",
   "execution_count": null,
   "metadata": {
    "collapsed": true
   },
   "outputs": [],
   "source": [
    "# Retrieve the new FN, FP and TP\n",
    "FN = np.copy(all_data)\n",
    "np.putmask(FN,FN!=85,0)\n",
    "\n",
    "FP = np.copy(all_data)\n",
    "np.putmask(FP,FP!=170,0)\n",
    "\n",
    "TP = np.copy(all_data)\n",
    "np.putmask(TP,TP!=255,0)"
   ]
  },
  {
   "cell_type": "code",
   "execution_count": null,
   "metadata": {},
   "outputs": [],
   "source": [
    "# Free memory\n",
    "del all_data\n",
    "gc.collect()"
   ]
  },
  {
   "cell_type": "code",
   "execution_count": null,
   "metadata": {
    "collapsed": true
   },
   "outputs": [],
   "source": [
    "# Find the new connected components\n",
    "FN_labels = measure.label(FN)\n",
    "FP_labels = measure.label(FP)\n",
    "TP_labels = measure.label(TP)"
   ]
  },
  {
   "cell_type": "code",
   "execution_count": null,
   "metadata": {},
   "outputs": [],
   "source": [
    "# Get the number of TP FP and FN\n",
    "FPn = FP_labels.max()\n",
    "FNn = FN_labels.max()\n",
    "TPn = TP_labels.max()\n",
    "print(\"TP : \",TPn, \" FP : \", FPn , \" FN : \", FNn)"
   ]
  },
  {
   "cell_type": "code",
   "execution_count": null,
   "metadata": {},
   "outputs": [],
   "source": [
    "# Free memory\n",
    "del FN\n",
    "del FP\n",
    "del TP\n",
    "del FN_labels\n",
    "del FP_labels\n",
    "del TP_labels\n",
    "gc.collect()"
   ]
  },
  {
   "cell_type": "code",
   "execution_count": null,
   "metadata": {},
   "outputs": [],
   "source": [
    "# Calculate the Fscore\n",
    "Fscore = (2*TPn)/(2*TPn+FPn+FNn)\n",
    "print(\"Fscore : \", Fscore)"
   ]
  }
 ],
 "metadata": {
  "kernelspec": {
   "display_name": "Python 3",
   "language": "python",
   "name": "python3"
  },
  "language_info": {
   "codemirror_mode": {
    "name": "ipython",
    "version": 3
   },
   "file_extension": ".py",
   "mimetype": "text/x-python",
   "name": "python",
   "nbconvert_exporter": "python",
   "pygments_lexer": "ipython3",
   "version": "3.5.2"
  }
 },
 "nbformat": 4,
 "nbformat_minor": 2
}
