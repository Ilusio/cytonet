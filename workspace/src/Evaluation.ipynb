{
 "cells": [
  {
   "cell_type": "markdown",
   "metadata": {},
   "source": [
    "# Imports "
   ]
  },
  {
   "cell_type": "code",
   "execution_count": null,
   "metadata": {
    "collapsed": true
   },
   "outputs": [],
   "source": [
    "from PIL import Image\n",
    "import numpy as np\n",
    "from skimage import measure\n",
    "import time\n",
    "import gc\n",
    "from matplotlib import pyplot as plt\n",
    "from scipy import misc\n",
    "import openslide as op\n",
    "import configparser \n",
    "import ast\n",
    "import os\n",
    "from util import mkdirs"
   ]
  },
  {
   "cell_type": "markdown",
   "metadata": {},
   "source": [
    "# Configuration"
   ]
  },
  {
   "cell_type": "code",
   "execution_count": null,
   "metadata": {
    "collapsed": true
   },
   "outputs": [],
   "source": [
    "config = configparser.RawConfigParser(interpolation=configparser.ExtendedInterpolation())\n",
    "config.read('cytonet.cfg')\n",
    "section = 'evaluation'"
   ]
  },
  {
   "cell_type": "code",
   "execution_count": null,
   "metadata": {
    "collapsed": true
   },
   "outputs": [],
   "source": [
    "experiment_folder = config.get(section, 'experiment_folder') if config.has_option(section, 'experiment_folder') \\\n",
    "                    else config.get('segmentation', 'folder_output')\n",
    "prediction = experiment_folder + \"prediction/12_64_i2_s16_f1.png\"\n",
    "filename = config.get(section, 'filename')\n",
    "\n",
    "transparency = config.getint(section, 'transparency') \n",
    "display = config.getboolean(section, 'display')\n",
    "load_level= config.getint(section, 'load_level') if config.has_option(section, 'patch_size') else config.getint('general', 'load_level')"
   ]
  },
  {
   "cell_type": "code",
   "execution_count": null,
   "metadata": {
    "collapsed": true
   },
   "outputs": [],
   "source": [
    "FN = 0 # Number of false negatives\n",
    "TP = 0 # Number of true positives\n",
    "FP = 0 # Number of false positives"
   ]
  },
  {
   "cell_type": "markdown",
   "metadata": {},
   "source": [
    "# Code Execution"
   ]
  },
  {
   "cell_type": "code",
   "execution_count": null,
   "metadata": {
    "collapsed": true
   },
   "outputs": [],
   "source": [
    "# Get the data\n",
    "mask = Image.open(prediction)\n",
    "mask = mask.convert(\"RGBA\")\n",
    "maskArray = np.array(mask).astype(np.uint16) # uint8 might not be enough to count connected components\n",
    "maskArray[-(maskArray.shape[0]%256):,:,0:3]=0\n",
    "maskArray[:,-(maskArray.shape[1]%256):,0:3]=0"
   ]
  },
  {
   "cell_type": "code",
   "execution_count": null,
   "metadata": {
    "collapsed": true
   },
   "outputs": [],
   "source": [
    "# Changing the channels (R and B are normally prediction and G ground truth)\n",
    "maskArray[:,:,2]=maskArray[:,:,1]\n",
    "maskArray[:,:,1]=maskArray[:,:,0]\n",
    "maskArray[:,:,0]=0"
   ]
  },
  {
   "cell_type": "code",
   "execution_count": null,
   "metadata": {
    "collapsed": true
   },
   "outputs": [],
   "source": [
    "# Creating pointing variable for readibility \n",
    "pred = maskArray[:,:,1]\n",
    "fp_array = maskArray[:,:,0]\n",
    "gt = maskArray[:,:,2]"
   ]
  },
  {
   "cell_type": "code",
   "execution_count": null,
   "metadata": {
    "collapsed": true
   },
   "outputs": [],
   "source": [
    "# Finding the connected components\n",
    "maskArray[:,:,1] = measure.label(pred)\n",
    "pred_nb = pred.max()\n",
    "maskArray[:,:,2] = measure.label(gt)\n",
    "gt_nb = gt.max()\n",
    "pred_labels = measure.regionprops(maskArray[:,:,1])\n",
    "gt_labels = measure.regionprops(maskArray[:,:,2])"
   ]
  },
  {
   "cell_type": "code",
   "execution_count": null,
   "metadata": {
    "collapsed": true
   },
   "outputs": [],
   "source": [
    "# Initializing arrays with the connected parts coordinates\n",
    "bb_pred = np.zeros((pred_nb,4), dtype=np.uint32)\n",
    "bb_gt = np.zeros((gt_nb,4), dtype=np.uint32)"
   ]
  },
  {
   "cell_type": "code",
   "execution_count": null,
   "metadata": {
    "collapsed": true
   },
   "outputs": [],
   "source": [
    "# Filling the arrays with coordinate\n",
    "for i in range(len(pred_labels)):\n",
    "    bb_pred[pred_labels[i].label-1][0] = pred_labels[i].bbox[0]\n",
    "    bb_pred[pred_labels[i].label-1][1] = pred_labels[i].bbox[2]\n",
    "    bb_pred[pred_labels[i].label-1][2] = pred_labels[i].bbox[1]\n",
    "    bb_pred[pred_labels[i].label-1][3] = pred_labels[i].bbox[3]\n",
    "\n",
    "for i in range(len(gt_labels)):\n",
    "    bb_gt[gt_labels[i].label-1][0] = gt_labels[i].bbox[0]\n",
    "    bb_gt[gt_labels[i].label-1][1] = gt_labels[i].bbox[2]\n",
    "    bb_gt[gt_labels[i].label-1][2] = gt_labels[i].bbox[1]\n",
    "    bb_gt[gt_labels[i].label-1][3] = gt_labels[i].bbox[3]"
   ]
  },
  {
   "cell_type": "code",
   "execution_count": null,
   "metadata": {
    "collapsed": true
   },
   "outputs": [],
   "source": [
    "# Display the result\n",
    "if(display):\n",
    "    plt.figure(figsize=(50,50))\n",
    "    plt.subplot(131)\n",
    "    plt.imshow(pred, cmap='nipy_spectral')\n",
    "    plt.subplot(132)\n",
    "    plt.imshow(gt, cmap='nipy_spectral')\n",
    "    plt.show()"
   ]
  },
  {
   "cell_type": "code",
   "execution_count": null,
   "metadata": {
    "collapsed": true
   },
   "outputs": [],
   "source": [
    "# Check if our prediction are FP or TP\n",
    "gt_TP_indices = [] # will contains the indexes of connected component that match a TP\n",
    "for i in range(1,pred_nb+1):\n",
    "    pred_ind = i-1\n",
    "    gt_indices = gt[bb_pred[pred_ind][0]:bb_pred[pred_ind][1],bb_pred[pred_ind][2]:bb_pred[pred_ind][3]]\n",
    "    gt_indices = np.unique(gt_indices)\n",
    "    # No matching prediction\n",
    "    if(len(gt_indices)==1 and gt_indices[0]==0):\n",
    "        FP += 1\n",
    "        fp_array[bb_pred[pred_ind][0]:bb_pred[pred_ind][1],bb_pred[pred_ind][2]:bb_pred[pred_ind][3]]=255\n",
    "        pred[bb_pred[pred_ind][0]:bb_pred[pred_ind][1],bb_pred[pred_ind][2]:bb_pred[pred_ind][3]]=0\n",
    "    else:\n",
    "        # remove the 0 as an index\n",
    "        if(gt_indices[0]==0):\n",
    "            gt_indices=np.delete(gt_indices,0)\n",
    "        max_overlap = -1 # the maximum overlap for all the indexes of the max\n",
    "        max_indice = -1 # the corresponding index\n",
    "        for ind in gt_indices:\n",
    "            gt_ind = ind -1\n",
    "            # Get the coordinate of the intersection\n",
    "            xmin = max(bb_pred[pred_ind][0],bb_gt[gt_ind][0])\n",
    "            xmax = min(bb_pred[pred_ind][1],bb_gt[gt_ind][1])\n",
    "            ymin = max(bb_pred[pred_ind][2],bb_gt[gt_ind][2])\n",
    "            ymax = min(bb_pred[pred_ind][3],bb_gt[gt_ind][3])\n",
    "            # Overlap calculation\n",
    "            SI = (xmax - xmin)*(ymax- ymin)\n",
    "            SA = (bb_pred[pred_ind][1]-bb_pred[pred_ind][0])*(bb_pred[pred_ind][3]-bb_pred[pred_ind][2])\n",
    "            SB = (bb_gt[gt_ind][1]-bb_gt[gt_ind][0])*(bb_gt[gt_ind][3]-bb_gt[gt_ind][2])\n",
    "            SU = SA + SB - SI\n",
    "            overlap = SI / SU\n",
    "            if(overlap>max_overlap):\n",
    "                max_overlap=overlap\n",
    "                max_indice=gt_ind\n",
    "        # If the overlap rate is above 20% we consider it as a TP\n",
    "        if(max_overlap>0.2):\n",
    "            TP += 1\n",
    "            pred[bb_pred[pred_ind][0]:bb_pred[pred_ind][1],bb_pred[pred_ind][2]:bb_pred[pred_ind][3]]=255\n",
    "            gt_TP_indices.append(max_indice)\n",
    "        else:\n",
    "            FP += 1\n",
    "            fp_array[bb_pred[pred_ind][0]:bb_pred[pred_ind][1],bb_pred[pred_ind][2]:bb_pred[pred_ind][3]]=255\n",
    "            pred[bb_pred[pred_ind][0]:bb_pred[pred_ind][1],bb_pred[pred_ind][2]:bb_pred[pred_ind][3]]=0\n",
    "bb_gt = np.delete(bb_gt,gt_TP_indices,0) # remove the TP components from the mask"
   ]
  },
  {
   "cell_type": "code",
   "execution_count": null,
   "metadata": {
    "collapsed": true
   },
   "outputs": [],
   "source": [
    "# Reset the ground truth array\n",
    "maskArray[:,:,2] = 0"
   ]
  },
  {
   "cell_type": "code",
   "execution_count": null,
   "metadata": {
    "collapsed": true
   },
   "outputs": [],
   "source": [
    "# Finding the FN\n",
    "for i in range(0,bb_gt.shape[0]):\n",
    "    FN += 1\n",
    "    gt[bb_gt[i][0]:bb_gt[i][1],bb_gt[i][2]:bb_gt[i][3]] = 255"
   ]
  },
  {
   "cell_type": "code",
   "execution_count": null,
   "metadata": {
    "collapsed": true
   },
   "outputs": [],
   "source": [
    "maskArray = maskArray.astype(np.uint8)"
   ]
  },
  {
   "cell_type": "code",
   "execution_count": null,
   "metadata": {
    "collapsed": true
   },
   "outputs": [],
   "source": [
    "# Display the result\n",
    "if(display):\n",
    "    plt.figure(figsize=(50,50))\n",
    "    plt.subplot(131)\n",
    "    plt.imshow(pred, cmap='Greens')\n",
    "    plt.subplot(132)\n",
    "    plt.imshow(fp_array, cmap='Reds')\n",
    "    plt.subplot(133)\n",
    "    plt.imshow(gt, cmap='Blues')\n",
    "    plt.show()"
   ]
  },
  {
   "cell_type": "code",
   "execution_count": null,
   "metadata": {
    "collapsed": true
   },
   "outputs": [],
   "source": [
    "# Display the result\n",
    "if(display):\n",
    "    plt.figure(figsize=(50,50))\n",
    "    plt.subplot(131)\n",
    "    plt.imshow(maskArray)\n",
    "    plt.show()"
   ]
  },
  {
   "cell_type": "code",
   "execution_count": null,
   "metadata": {
    "collapsed": true
   },
   "outputs": [],
   "source": [
    "# Opening the original image\n",
    "im = op.OpenSlide(filename)\n",
    "imload = im.read_region((0,0), load_level, im.level_dimensions[load_level])"
   ]
  },
  {
   "cell_type": "code",
   "execution_count": null,
   "metadata": {
    "collapsed": true
   },
   "outputs": [],
   "source": [
    "# Adding transparency on the mask\n",
    "maskArray[:,:,3]=0\n",
    "maskArray[:,:,3] += maskArray[:,:,0] + maskArray[:,:,1] + maskArray[:,:,2]\n",
    "np.putmask(maskArray[:,:,3],maskArray[:,:,3]!=0,transparency)"
   ]
  },
  {
   "cell_type": "code",
   "execution_count": null,
   "metadata": {
    "collapsed": true
   },
   "outputs": [],
   "source": [
    "# Calculate the Fscore\n",
    "Fscore = (2*TP)/(2*TP+FP+FN)\n",
    "print(\"Fscore : \", Fscore)\n",
    "print(\"TP : \", TP)\n",
    "print(\"FP : \", FP)\n",
    "print(\"FN : \", FN)"
   ]
  },
  {
   "cell_type": "code",
   "execution_count": null,
   "metadata": {
    "collapsed": true
   },
   "outputs": [],
   "source": [
    "filename_base = prediction.split(\"/\")[-1].split(\".\")[0]"
   ]
  },
  {
   "cell_type": "code",
   "execution_count": null,
   "metadata": {
    "collapsed": true
   },
   "outputs": [],
   "source": [
    "output_image = experiment_folder + \"evaluation/\" + \"eval_\" + str(TP) + \"_\" + str(FP) + \"_\" + str(FN) + \"|\" +  filename_base + \".png\""
   ]
  },
  {
   "cell_type": "code",
   "execution_count": null,
   "metadata": {
    "collapsed": true
   },
   "outputs": [],
   "source": [
    "mkdirs(experiment_folder + \"evaluation/\", 0o777)"
   ]
  },
  {
   "cell_type": "code",
   "execution_count": null,
   "metadata": {
    "collapsed": true
   },
   "outputs": [],
   "source": [
    "# Merge the mask and image and save it\n",
    "maskImage = Image.fromarray(maskArray, 'RGBA')\n",
    "Image.alpha_composite(imload, maskImage).save(output_image)"
   ]
  },
  {
   "cell_type": "code",
   "execution_count": null,
   "metadata": {
    "collapsed": true
   },
   "outputs": [],
   "source": []
  }
 ],
 "metadata": {
  "kernelspec": {
   "display_name": "Python 3",
   "language": "python",
   "name": "python3"
  },
  "language_info": {
   "codemirror_mode": {
    "name": "ipython",
    "version": 3
   },
   "file_extension": ".py",
   "mimetype": "text/x-python",
   "name": "python",
   "nbconvert_exporter": "python",
   "pygments_lexer": "ipython3",
   "version": "3.5.2"
  }
 },
 "nbformat": 4,
 "nbformat_minor": 2
}
