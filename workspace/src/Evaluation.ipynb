{
 "cells": [
  {
   "cell_type": "markdown",
   "metadata": {},
   "source": [
    "# Imports "
   ]
  },
  {
   "cell_type": "code",
   "execution_count": null,
   "metadata": {},
   "outputs": [],
   "source": [
    "from PIL import Image\n",
    "import numpy as np\n",
    "from skimage import measure\n",
    "import time\n",
    "import gc\n",
    "from matplotlib import pyplot as plt\n",
    "import openslide as op"
   ]
  },
  {
   "cell_type": "markdown",
   "metadata": {},
   "source": [
    "# Configuration"
   ]
  },
  {
   "cell_type": "code",
   "execution_count": null,
   "metadata": {
    "collapsed": true
   },
   "outputs": [],
   "source": [
    "mask = Image.open(\"/root/workspace/src/prediction_15-02_voley.png\") # file with the predictions\n",
    "filename = '/root/workspace/data/SVS_test/IFTA_12_02.svs' # original image\n",
    "transparency = 110  # alpha channel on the output image\n",
    "output_image='/root/workspace/data/res.png' # name of the output image\n",
    "display = True  # if true, display the images during execution"
   ]
  },
  {
   "cell_type": "code",
   "execution_count": null,
   "metadata": {
    "collapsed": true
   },
   "outputs": [],
   "source": [
    "FN = 0 # Number of false negatives\n",
    "TP = 0 # Number of true positives\n",
    "FP = 0 # Number of false positives"
   ]
  },
  {
   "cell_type": "markdown",
   "metadata": {},
   "source": [
    "# Code Execution"
   ]
  },
  {
   "cell_type": "code",
   "execution_count": null,
   "metadata": {},
   "outputs": [],
   "source": [
    "# Get the data\n",
    "mask = mask.convert(\"RGBA\")\n",
    "maskArray = np.array(mask)"
   ]
  },
  {
   "cell_type": "code",
   "execution_count": null,
   "metadata": {
    "collapsed": true
   },
   "outputs": [],
   "source": [
    "# Changing the channels (R and B are normally prediction and G ground truth)\n",
    "maskArray[:,:,2]=maskArray[:,:,1]"
   ]
  },
  {
   "cell_type": "code",
   "execution_count": null,
   "metadata": {},
   "outputs": [],
   "source": [
    "# Creating pointing variable for readibility \n",
    "pred = maskArray[:,:,0]\n",
    "gt = maskArray[:,:,2]"
   ]
  },
  {
   "cell_type": "code",
   "execution_count": null,
   "metadata": {
    "collapsed": true
   },
   "outputs": [],
   "source": [
    "# Finding the connected components\n",
    "maskArray[:,:,0] = measure.label(pred)\n",
    "pred_nb = pred.max()\n",
    "maskArray[:,:,2] = measure.label(gt)\n",
    "gt_nb = gt.max()"
   ]
  },
  {
   "cell_type": "code",
   "execution_count": null,
   "metadata": {
    "collapsed": true
   },
   "outputs": [],
   "source": [
    "# Initializing arrays with the connected parts coordinates\n",
    "bb_pred = np.zeros((pred_nb,4))\n",
    "bb_gt = np.zeros((gt_nb,4))"
   ]
  },
  {
   "cell_type": "code",
   "execution_count": null,
   "metadata": {
    "collapsed": true
   },
   "outputs": [],
   "source": [
    "# Filling the arrays with coordinate\n",
    "for i in range(1,pred_nb+1):\n",
    "    indices = np.where(pred==i)\n",
    "    xmin = bb_pred[i-1][0] = indices[0].min()\n",
    "    xmax = bb_pred[i-1][1] = indices[0].max()\n",
    "    ymin = bb_pred[i-1][2] = indices[1].min()\n",
    "    ymax = bb_pred[i-1][3] = indices[1].max()\n",
    "    pred[xmin:xmax+1,ymin:ymax+1]=i\n",
    "\n",
    "for i in range(1,gt.max()+1):\n",
    "    indices = np.where(gt==i)\n",
    "    xmin = bb_gt[i-1][0] = indices[0].min()\n",
    "    xmax = bb_gt[i-1][1] = indices[0].max()\n",
    "    ymin = bb_gt[i-1][2] = indices[1].min()\n",
    "    ymax = bb_gt[i-1][3] = indices[1].max()\n",
    "    gt[xmin:xmax+1,ymin:ymax+1]=i"
   ]
  },
  {
   "cell_type": "code",
   "execution_count": null,
   "metadata": {
    "collapsed": true
   },
   "outputs": [],
   "source": [
    "# these 2 arrays are a bit tricky, the idea is to find the corresponding parts of an intersection. \n",
    "# By adding the number of parts, we are sure to have only one component.\n",
    "# The first array is to find the prediction component and the second one the ground truth component \n",
    "all_pred = np.copy(gt)\n",
    "np.putmask(all_pred,all_pred!=0,pred_nb)\n",
    "all_pred += pred\n",
    "\n",
    "all_gt = np.copy(pred)\n",
    "np.putmask(all_gt,all_gt!=0,gt_nb)\n",
    "all_gt += gt"
   ]
  },
  {
   "cell_type": "code",
   "execution_count": null,
   "metadata": {},
   "outputs": [],
   "source": [
    "# Display the result\n",
    "if(display):\n",
    "    plt.figure(figsize=(50,50))\n",
    "    plt.subplot(131)\n",
    "    plt.imshow(pred, cmap='nipy_spectral')\n",
    "    plt.subplot(132)\n",
    "    plt.imshow(gt, cmap='nipy_spectral')\n",
    "    plt.subplot(133)\n",
    "    plt.imshow(all_pred, cmap='nipy_spectral')\n",
    "    plt.show()"
   ]
  },
  {
   "cell_type": "code",
   "execution_count": null,
   "metadata": {},
   "outputs": [],
   "source": [
    "# Check if our prediction are FP or TP\n",
    "for i in range(1,pred_nb+1):\n",
    "    indices = np.where(all_pred==i+pred_nb)\n",
    "    if(len(indices[0])==0):\n",
    "        FP += 1\n",
    "        np.putmask(pred,pred==i,125)\n",
    "    else:\n",
    "        gt_ind = gt[indices[0][0]][indices[0][1]]-1\n",
    "        pred_ind = i -1\n",
    "        # Get the coordinate of the intersection\n",
    "        xmin = indices[0].min()\n",
    "        xmax = indices[0].max()\n",
    "        ymin = indices[1].min()\n",
    "        ymax = indices[1].max()\n",
    "        # Overlap calculation\n",
    "        SI = (xmax - xmin)*(ymax- ymin )\n",
    "        SA = (bb_pred[pred_ind][1]-bb_pred[pred_ind][0])*(bb_pred[pred_ind][3]-bb_pred[pred_ind][2])\n",
    "        SB = (bb_gt[gt_ind][1]-bb_gt[gt_ind][0])*(bb_gt[gt_ind][3]-bb_gt[gt_ind][2])\n",
    "        SU = SA + SB - SI\n",
    "        overlap = SI / SU\n",
    "        # If the overlap rate is above 20% we consider it as a TP\n",
    "        if(overlap>0.2):\n",
    "            TP += 1\n",
    "            np.putmask(pred,pred==i,255)\n",
    "        else:\n",
    "            FP += 1\n",
    "            np.putmask(pred,pred==i,125)"
   ]
  },
  {
   "cell_type": "code",
   "execution_count": null,
   "metadata": {},
   "outputs": [],
   "source": [
    "# Display the result\n",
    "if(display):\n",
    "    plt.figure(figsize=(50,50))\n",
    "    plt.subplot(131)\n",
    "    plt.imshow(pred, cmap='nipy_spectral')\n",
    "    plt.subplot(132)\n",
    "    plt.imshow(gt, cmap='nipy_spectral')\n",
    "    plt.show()"
   ]
  },
  {
   "cell_type": "code",
   "execution_count": null,
   "metadata": {},
   "outputs": [],
   "source": [
    "# Finding the FN\n",
    "for i in range(1,gt_nb+1):\n",
    "    indices = np.where(all_gt==i+gt_nb)\n",
    "    if(len(indices[0])==0):\n",
    "        FN += 1\n",
    "        np.putmask(gt,gt==i,180)\n",
    "np.putmask(gt,gt!=180,0)"
   ]
  },
  {
   "cell_type": "code",
   "execution_count": null,
   "metadata": {
    "collapsed": true
   },
   "outputs": [],
   "source": [
    "# Putting the TP on the green channel and the FP on the red channel\n",
    "maskArray[:,:,1]=maskArray[:,:,0]\n",
    "np.putmask(maskArray[:,:,1],maskArray[:,:,1]!=255,0)\n",
    "np.putmask(maskArray[:,:,0],maskArray[:,:,0]==255,0)\n",
    "np.putmask(maskArray[:,:,0],maskArray[:,:,0]!=0,255)"
   ]
  },
  {
   "cell_type": "code",
   "execution_count": null,
   "metadata": {},
   "outputs": [],
   "source": [
    "# Display the result\n",
    "if(display):\n",
    "    plt.figure(figsize=(50,50))\n",
    "    plt.subplot(131)\n",
    "    plt.imshow(maskArray)\n",
    "    plt.show()"
   ]
  },
  {
   "cell_type": "code",
   "execution_count": null,
   "metadata": {},
   "outputs": [],
   "source": [
    "# Opening the original image\n",
    "im = op.OpenSlide(filename)\n",
    "imload = im.read_region((0,0), 1, im.level_dimensions[1])"
   ]
  },
  {
   "cell_type": "code",
   "execution_count": null,
   "metadata": {},
   "outputs": [],
   "source": [
    "# Adding transparency on the mask\n",
    "maskArray[:,:,3]=0\n",
    "maskArray[:,:,3] += maskArray[:,:,0] + maskArray[:,:,1] + maskArray[:,:,2]\n",
    "np.putmask(maskArray[:,:,3],maskArray[:,:,3]!=0,transparency)"
   ]
  },
  {
   "cell_type": "code",
   "execution_count": null,
   "metadata": {
    "collapsed": true
   },
   "outputs": [],
   "source": [
    "# Merge the mask and image and save it\n",
    "maskImage = Image.fromarray(maskArray, 'RGBA')\n",
    "Image.alpha_composite(imload, maskImage).save(output_image)"
   ]
  },
  {
   "cell_type": "code",
   "execution_count": null,
   "metadata": {},
   "outputs": [],
   "source": [
    "# Calculate the Fscore\n",
    "Fscore = (2*TP)/(2*TP+FP+FN)\n",
    "print(\"Fscore : \", Fscore)"
   ]
  }
 ],
 "metadata": {
  "kernelspec": {
   "display_name": "Python 3",
   "language": "python",
   "name": "python3"
  },
  "language_info": {
   "codemirror_mode": {
    "name": "ipython",
    "version": 3
   },
   "file_extension": ".py",
   "mimetype": "text/x-python",
   "name": "python",
   "nbconvert_exporter": "python",
   "pygments_lexer": "ipython3",
   "version": "3.5.2"
  }
 },
 "nbformat": 4,
 "nbformat_minor": 2
}
