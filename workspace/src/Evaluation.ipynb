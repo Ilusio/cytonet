{
 "cells": [
  {
   "cell_type": "markdown",
   "metadata": {},
   "source": [
    "# Imports "
   ]
  },
  {
   "cell_type": "code",
   "execution_count": null,
   "metadata": {
    "collapsed": true
   },
   "outputs": [],
   "source": [
    "from PIL import Image\n",
    "import numpy as np\n",
    "from skimage import measure\n",
    "import time\n",
    "import gc\n",
    "from matplotlib import pyplot as plt\n",
    "from scipy import misc\n",
    "import openslide as op\n",
    "import configparser\n",
    "import glob\n",
    "import ast\n",
    "import errno\n",
    "import os\n",
    "from util import mkdirs, extend_glob, file_suffix\n",
    "from evaluate import evaluate"
   ]
  },
  {
   "cell_type": "markdown",
   "metadata": {},
   "source": [
    "# Configuration"
   ]
  },
  {
   "cell_type": "code",
   "execution_count": null,
   "metadata": {
    "collapsed": true
   },
   "outputs": [],
   "source": [
    "config = configparser.RawConfigParser(interpolation=configparser.ExtendedInterpolation())\n",
    "config.read('cytonet.cfg')\n",
    "section = 'evaluation'"
   ]
  },
  {
   "cell_type": "code",
   "execution_count": null,
   "metadata": {
    "collapsed": true
   },
   "outputs": [],
   "source": [
    "experiment_folder = config.get(section, 'experiment_folder') if config.has_option(section, 'experiment_folder') \\\n",
    "                    else config.get('general', 'experiment_folder')\n",
    "predictions = os.path.join(experiment_folder, \"prediction\",\"*\")\n",
    "filenames = ast.literal_eval(config.get(section, 'images'))\n",
    "\n",
    "transparency = config.getint(section, 'transparency') \n",
    "display = config.getboolean(section, 'display')\n",
    "load_level= config.getint(section, 'load_level') if config.has_option(section, 'patch_size') else config.getint('general', 'load_level')"
   ]
  },
  {
   "cell_type": "code",
   "execution_count": null,
   "metadata": {
    "collapsed": true
   },
   "outputs": [],
   "source": [
    "prediction_folders = glob.glob(predictions)\n",
    "files = extend_glob(filenames)"
   ]
  },
  {
   "cell_type": "code",
   "execution_count": null,
   "metadata": {},
   "outputs": [],
   "source": [
    "for prediction_folder in prediction_folders:\n",
    "    print(\"Working on \", prediction_folder)\n",
    "    image_name = os.path.split(prediction_folder)[-1]\n",
    "    image_file = None \n",
    "    for file in files:\n",
    "        if(image_name in file):\n",
    "            image_file = file\n",
    "            break\n",
    "    if(image_file==None):\n",
    "        raise FileNotFoundError(errno.ENOENT, os.strerror(errno.ENOENT), image_name)\n",
    "    predictions_files = glob.glob(os.path.join(prediction_folder,\"*\"))\n",
    "    output_folder = os.path.join(experiment_folder,\"evaluation\", image_name)\n",
    "    mkdirs(output_folder,0o777)\n",
    "    for prediction_file in predictions_files:\n",
    "        evaluate(prediction_file, image_file, output_folder, load_level, transparency, display)"
   ]
  }
 ],
 "metadata": {
  "kernelspec": {
   "display_name": "Python 3",
   "language": "python",
   "name": "python3"
  },
  "language_info": {
   "codemirror_mode": {
    "name": "ipython",
    "version": 3
   },
   "file_extension": ".py",
   "mimetype": "text/x-python",
   "name": "python",
   "nbconvert_exporter": "python",
   "pygments_lexer": "ipython3",
   "version": "3.5.2"
  }
 },
 "nbformat": 4,
 "nbformat_minor": 2
}
