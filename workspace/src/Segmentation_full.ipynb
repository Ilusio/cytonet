{
 "cells": [
  {
   "cell_type": "markdown",
   "metadata": {},
   "source": [
    "# Segmentation"
   ]
  },
  {
   "cell_type": "markdown",
   "metadata": {},
   "source": [
    "## Importing dependencies"
   ]
  },
  {
   "cell_type": "code",
   "execution_count": 1,
   "metadata": {},
   "outputs": [
    {
     "name": "stderr",
     "output_type": "stream",
     "text": [
      "Using TensorFlow backend.\n"
     ]
    }
   ],
   "source": [
    "import numpy as np\n",
    "import pandas as pd\n",
    "from keras.models import load_model, model_from_json\n",
    "from keras.preprocessing.image import ImageDataGenerator\n",
    "from skimage import morphology, io, color, exposure, img_as_float, transform\n",
    "from matplotlib import pyplot as plt\n",
    "import json\n",
    "import openslide as op\n",
    "from PIL import Image\n",
    "from util import IoU, Dice, masked, remove_small_regions, normalize\n",
    "from keras.models import load_model, model_from_json\n",
    "\n",
    "from sklearn.utils.validation import check_array\n",
    "import numbers\n",
    "from itertools import product\n",
    "from scipy import sparse\n",
    "from numpy.lib.stride_tricks import as_strided\n",
    "\n",
    "from scipy import misc\n",
    "import gc"
   ]
  },
  {
   "cell_type": "markdown",
   "metadata": {},
   "source": [
    "## Configuration"
   ]
  },
  {
   "cell_type": "code",
   "execution_count": 2,
   "metadata": {
    "collapsed": true
   },
   "outputs": [],
   "source": [
    "# Paths\n",
    "filename = '/root/workspace/data/preExtraction/15_02/IFTA_15_02.svs'\n",
    "maskname = '/root/workspace/data/preExtraction/15_02/IFTA_15_02.png'\n",
    "\n",
    "# Do not touch\n",
    "level=1\n",
    "position=(0,0)\n",
    "im_shape = (256, 256,3) # Shape of the image (patch)\n",
    "pa_shape = (256, 256)   # Shape of the mask (patch)"
   ]
  },
  {
   "cell_type": "markdown",
   "metadata": {},
   "source": [
    "## Image loading"
   ]
  },
  {
   "cell_type": "markdown",
   "metadata": {},
   "source": [
    "### Loading base picture"
   ]
  },
  {
   "cell_type": "code",
   "execution_count": 3,
   "metadata": {
    "collapsed": true
   },
   "outputs": [],
   "source": [
    "im = op.OpenSlide(filename)\n",
    "imload = np.asfarray(im.read_region((0,0), 1, im.level_dimensions[1]),dtype=np.float32)[:,:,0:3]/255"
   ]
  },
  {
   "cell_type": "code",
   "execution_count": 4,
   "metadata": {},
   "outputs": [
    {
     "name": "stdout",
     "output_type": "stream",
     "text": [
      "0.806298\n",
      "0.176316\n"
     ]
    }
   ],
   "source": [
    "print(imload.mean())\n",
    "print(imload.std())"
   ]
  },
  {
   "cell_type": "markdown",
   "metadata": {},
   "source": [
    "### Loading mask"
   ]
  },
  {
   "cell_type": "code",
   "execution_count": 5,
   "metadata": {
    "collapsed": true
   },
   "outputs": [],
   "source": [
    "maskload = Image.open(maskname)\n",
    "maskload = np.expand_dims(np.array(maskload.resize(im.level_dimensions[level], Image.ANTIALIAS),dtype=np.float32),-1)"
   ]
  },
  {
   "cell_type": "markdown",
   "metadata": {},
   "source": [
    "### Allocating final array"
   ]
  },
  {
   "cell_type": "code",
   "execution_count": 6,
   "metadata": {
    "collapsed": true
   },
   "outputs": [],
   "source": [
    "#output = np.zeros((im.level_dimensions[level][1],im.level_dimensions[level][0]),dtype=np.float32)"
   ]
  },
  {
   "cell_type": "code",
   "execution_count": 7,
   "metadata": {
    "collapsed": true
   },
   "outputs": [],
   "source": [
    "outputThreshold = np.zeros((im.level_dimensions[level][1],im.level_dimensions[level][0], 3),dtype=np.int8)"
   ]
  },
  {
   "cell_type": "markdown",
   "metadata": {},
   "source": [
    "## Loading model"
   ]
  },
  {
   "cell_type": "code",
   "execution_count": 8,
   "metadata": {
    "collapsed": true
   },
   "outputs": [],
   "source": [
    "# Load model\n",
    "model_name = './model.099.hdf5'\n",
    "UNet = load_model(model_name)"
   ]
  },
  {
   "cell_type": "markdown",
   "metadata": {},
   "source": [
    "## Execution"
   ]
  },
  {
   "cell_type": "markdown",
   "metadata": {},
   "source": [
    "### Initialization  "
   ]
  },
  {
   "cell_type": "code",
   "execution_count": null,
   "metadata": {},
   "outputs": [],
   "source": [
    "test_gen = ImageDataGenerator(rescale=1.)\n",
    "#ious = np.zeros(n_test)\n",
    "#dices = np.zeros(n_test)\n",
    "#gts, prs = [], []\n",
    "i = 0\n",
    "iterX=0\n",
    "iterY=0\n",
    "\n",
    "im_mean=imload.mean()\n",
    "im_std=imload.std()\n",
    "#plt.figure(figsize=(10, 10))\n",
    "\n",
    "inp_shape=(256,256,3)"
   ]
  },
  {
   "cell_type": "markdown",
   "metadata": {},
   "source": [
    "### Prediction"
   ]
  },
  {
   "cell_type": "code",
   "execution_count": null,
   "metadata": {},
   "outputs": [
    {
     "name": "stderr",
     "output_type": "stream",
     "text": [
      "/usr/local/lib/python3.5/dist-packages/skimage/morphology/misc.py:122: UserWarning: Only one label was provided to `remove_small_objects`. Did you mean to use a boolean array?\n",
      "  warn(\"Only one label was provided to `remove_small_objects`. \"\n"
     ]
    }
   ],
   "source": [
    "\n",
    "# Prediction\n",
    "#for xx, yy in test_gen.flow(X, y, batch_size=1):\n",
    "for h in range(0,im.level_dimensions[level][0]-256,256):\n",
    "    for j in range(0,im.level_dimensions[level][1]-256,256):\n",
    "        posX=h\n",
    "        posY=j\n",
    "        \n",
    "        xx = np.expand_dims(imload[posY:posY+256,posX:posX+256,:],0)\n",
    "        xx -= im_mean\n",
    "        xx /= im_std\n",
    "        yy = maskload[posY:posY+256,posX:posX+256,:]\n",
    "        #print(xx.shape)\n",
    "        #print(yy.shape)\n",
    "        #xx, yy = np.expand_dims(X[i],0),np.expand_dims(y[i],0)\n",
    "        #print(xx.shape)\n",
    "        #print(yy.shape)\n",
    "        \n",
    "        #img = exposure.rescale_intensity(np.squeeze(xx), out_range=(0,1))\n",
    "        pred = UNet.predict(xx)[..., 0].reshape(inp_shape[:2])\n",
    "        mask = yy[..., 0].reshape(inp_shape[:2])\n",
    "        gt = mask > 0.5\n",
    "        pr = pred > 0.5\n",
    "        pr = remove_small_regions(pr, 0.02 * np.prod(im_shape))\n",
    "        #io.imsave('{}'.format(df.iloc[i].path), masked(img, gt, pr, 1))\n",
    "        #gts.append(gt)\n",
    "        #prs.append(pr)\n",
    "        #ious[i] = IoU(gt, pr)\n",
    "        #dices[i] = Dice(gt, pr)\n",
    "        #print(i, ious[i], dices[i])\n",
    "        \n",
    "        #outputPatches[i,:,:,:] = np.dstack((pr.astype(np.int8), gt.astype(np.int8), pr.astype(np.int8)))\n",
    "        outputPart = np.dstack((pr.astype(np.int8), gt.astype(np.int8), pr.astype(np.int8)))\n",
    "        #if i < 4:\n",
    "        #    plt.subplot(4, 4, 4*i+1)\n",
    "        #    plt.title('Processed ' + str(i))\n",
    "        #    plt.axis('off')\n",
    "        #    plt.imshow(img, cmap='gray')\n",
    "        #    plt.subplot(4, 4, 4 * i + 2)\n",
    "        #    plt.title('IoU = {:.4f}'.format(ious[i]))\n",
    "        #    plt.axis('off')\n",
    "        #    plt.imshow(masked(img, gt, pr, 1))\n",
    "        #    plt.subplot(4, 4, 4*i+3)\n",
    "        #    plt.title('Prediction')\n",
    "        #    plt.axis('off')\n",
    "        #    plt.imshow(pred, cmap='jet')\n",
    "        #    plt.subplot(4, 4, 4*i+4)\n",
    "        #    plt.title('Difference')\n",
    "        #    plt.axis('off')\n",
    "        #    plt.imshow(outputPart)\n",
    "\n",
    "        #Add the prediction patch to the output picture\n",
    "\n",
    "\n",
    "        #if i!=0 and i % modulo == 0:\n",
    "        #    iterX=0\n",
    "        #    iterY+=1\n",
    "\n",
    "\n",
    "        part=outputThreshold[posY:posY+256,posX:posX+256,:]\n",
    "        part[:,:,:]=outputPart[0:part.shape[0],0:part.shape[1],:]\n",
    "\n",
    "        #part=output[posY:posY+256,posX:posX+256]\n",
    "        #part[:,:]=pred[0:part.shape[0],0:part.shape[1]]\n",
    "\n",
    "        #iterX+=1\n",
    "\n",
    "        i += 1\n",
    "        #if i == n_test:\n",
    "        #    break\n",
    "\n",
    " \n",
    "#print('Mean IoU:', ious.mean())\n",
    "#print('Mean Dice:', dices.mean())\n",
    "#plt.tight_layout()\n",
    "#plt.savefig('results.png')\n",
    "#plt.show()"
   ]
  },
  {
   "cell_type": "code",
   "execution_count": null,
   "metadata": {},
   "outputs": [],
   "source": [
    "plt.figure(figsize = (20,20)) # create a 5 x 5 figure *\n",
    "plt.subplot(211)\n",
    "plt.imshow(imload,interpolation='none')\n",
    "plt.show()"
   ]
  },
  {
   "cell_type": "code",
   "execution_count": null,
   "metadata": {},
   "outputs": [],
   "source": [
    "plt.figure(figsize = (20,20)) # create a 5 x 5 figure *\n",
    "plt.subplot(211)\n",
    "plt.imshow(outputThreshold,interpolation='none', cmap=\"jet\")\n",
    "plt.show()"
   ]
  },
  {
   "cell_type": "code",
   "execution_count": 23,
   "metadata": {
    "collapsed": true
   },
   "outputs": [],
   "source": [
    "misc.imsave(\"prediction_15-02_voley.png\", outputThreshold)"
   ]
  },
  {
   "cell_type": "code",
   "execution_count": null,
   "metadata": {
    "collapsed": true
   },
   "outputs": [],
   "source": []
  }
 ],
 "metadata": {
  "kernelspec": {
   "display_name": "Python 3",
   "language": "python",
   "name": "python3"
  },
  "language_info": {
   "codemirror_mode": {
    "name": "ipython",
    "version": 3
   },
   "file_extension": ".py",
   "mimetype": "text/x-python",
   "name": "python",
   "nbconvert_exporter": "python",
   "pygments_lexer": "ipython3",
   "version": "3.5.2"
  }
 },
 "nbformat": 4,
 "nbformat_minor": 2
}
