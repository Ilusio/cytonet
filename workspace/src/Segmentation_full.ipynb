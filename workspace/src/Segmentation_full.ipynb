{
 "cells": [
  {
   "cell_type": "markdown",
   "metadata": {},
   "source": [
    "# Segmentation"
   ]
  },
  {
   "cell_type": "markdown",
   "metadata": {},
   "source": [
    "## Importing dependencies"
   ]
  },
  {
   "cell_type": "code",
   "execution_count": null,
   "metadata": {},
   "outputs": [],
   "source": [
    "import numpy as np\n",
    "from keras.models import load_model\n",
    "from skimage import morphology, io, color, exposure, img_as_float, transform\n",
    "from matplotlib import pyplot as plt\n",
    "import openslide as op\n",
    "from PIL import Image\n",
    "from util import IoU, Dice, masked, remove_small_regions, normalize\n",
    "from scipy import misc\n",
    "\n",
    "import time\n",
    "import h5py"
   ]
  },
  {
   "cell_type": "markdown",
   "metadata": {},
   "source": [
    "## Configuration"
   ]
  },
  {
   "cell_type": "code",
   "execution_count": null,
   "metadata": {},
   "outputs": [],
   "source": [
    "# Paths\n",
    "filename = '/root/workspace/data/preExtraction/12_02/IFTA_12_02.svs'\n",
    "maskname = '/root/workspace/data/preExtraction/12_02/IFTA_12_02.png'\n",
    "h5f = h5py.File('/root/workspace/data/old/Experiments/Extraction/best_mask_10-11-12_index2_64/matrice_train.h5','r')\n",
    "output_name=\"12_64_i2_s16_f1.png\"\n",
    "\n",
    "folder_output = \"../data/trained/TRUE_UNET/\"\n",
    "model_name = folder_output+ \"matrices/\" + 'model.099.hdf5'\n",
    "\n",
    "# Do not touch\n",
    "level=2\n",
    "patchSize = 64\n",
    "stride = patchSize//4\n",
    "\n",
    "colorChannels = 3\n",
    "\n",
    "patchShape = (patchSize, patchSize,colorChannels) # Shape of the image (patch)\n",
    "patchMaskShape = (patchSize, patchSize)   # Shape of the mask (patch)"
   ]
  },
  {
   "cell_type": "markdown",
   "metadata": {},
   "source": [
    "## Image loading"
   ]
  },
  {
   "cell_type": "markdown",
   "metadata": {},
   "source": [
    "### Loading base picture"
   ]
  },
  {
   "cell_type": "code",
   "execution_count": null,
   "metadata": {
    "collapsed": true
   },
   "outputs": [],
   "source": [
    "im = op.OpenSlide(filename)\n",
    "imload = np.asfarray(im.read_region((0,0), level, im.level_dimensions[level]),dtype=np.float32)[:,:,0:colorChannels]/255"
   ]
  },
  {
   "cell_type": "code",
   "execution_count": null,
   "metadata": {},
   "outputs": [],
   "source": [
    "print(im.level_dimensions)"
   ]
  },
  {
   "cell_type": "code",
   "execution_count": null,
   "metadata": {},
   "outputs": [],
   "source": [
    "print(imload.mean())\n",
    "print(imload.std())"
   ]
  },
  {
   "cell_type": "code",
   "execution_count": null,
   "metadata": {},
   "outputs": [],
   "source": [
    "#normalization\n",
    "stats = h5f['stats'][:]\n",
    "im_mean=stats[0]\n",
    "im_std=stats[1]\n",
    "h5f.close()\n",
    "\n",
    "print(im_mean)\n",
    "print(im_std)\n",
    "print(imload.mean())\n",
    "print(imload.std())\n",
    "\n",
    "imload-=imload.mean()\n",
    "imload/=imload.std()\n",
    "#imload-=im_mean\n",
    "#imload/=im_std"
   ]
  },
  {
   "cell_type": "code",
   "execution_count": null,
   "metadata": {},
   "outputs": [],
   "source": [
    "print(imload.mean())\n",
    "print(imload.std())"
   ]
  },
  {
   "cell_type": "markdown",
   "metadata": {},
   "source": [
    "### Loading mask"
   ]
  },
  {
   "cell_type": "code",
   "execution_count": null,
   "metadata": {},
   "outputs": [],
   "source": [
    "maskload = Image.open(maskname)\n",
    "maskload = np.expand_dims(np.array(maskload.resize(im.level_dimensions[level]),dtype=np.float32),-1)"
   ]
  },
  {
   "cell_type": "markdown",
   "metadata": {},
   "source": [
    "### Allocating final array"
   ]
  },
  {
   "cell_type": "code",
   "execution_count": null,
   "metadata": {
    "collapsed": true
   },
   "outputs": [],
   "source": [
    "outputProba = np.zeros((im.level_dimensions[level][1],im.level_dimensions[level][0]),dtype=np.float32)\n",
    "outputProbaTimes = np.zeros((im.level_dimensions[level][1],im.level_dimensions[level][0]),dtype=np.uint8)"
   ]
  },
  {
   "cell_type": "markdown",
   "metadata": {},
   "source": [
    "## Loading model"
   ]
  },
  {
   "cell_type": "code",
   "execution_count": null,
   "metadata": {},
   "outputs": [],
   "source": [
    "# Load model\n",
    "UNet = load_model(model_name)"
   ]
  },
  {
   "cell_type": "markdown",
   "metadata": {},
   "source": [
    "## Execution"
   ]
  },
  {
   "cell_type": "markdown",
   "metadata": {},
   "source": [
    "### Prediction"
   ]
  },
  {
   "cell_type": "code",
   "execution_count": null,
   "metadata": {},
   "outputs": [],
   "source": [
    "t0 = time.clock()\n",
    "\n",
    "\n",
    "# Prediction\n",
    "for posX in range(0,im.level_dimensions[level][0]-patchSize,stride):\n",
    "    for posY in range(0,im.level_dimensions[level][1]-patchSize,stride):\n",
    "\n",
    "        xx = np.expand_dims(imload[posY:posY+patchSize,posX:posX+patchSize,:],0)\n",
    "        yy = maskload[posY:posY+patchSize,posX:posX+patchSize,:]\n",
    "        #xx = xx[:,:,:,0:1]\n",
    "        pred = UNet.predict(xx)[..., 0].reshape(patchShape[:2])\n",
    "\n",
    "        part=outputProba[posY:posY+patchSize,posX:posX+patchSize]\n",
    "        part[:,:]+=pred[0:part.shape[0],0:part.shape[1]]\n",
    "        outputProbaTimes[posY:posY+patchSize,posX:posX+patchSize]+=1\n",
    "\n",
    "t = time.clock()\n",
    "print(\"Execution duration : \", t-t0)"
   ]
  },
  {
   "cell_type": "markdown",
   "metadata": {},
   "source": [
    "### code that follows in progress "
   ]
  },
  {
   "cell_type": "code",
   "execution_count": null,
   "metadata": {},
   "outputs": [],
   "source": [
    "outputProba.shape"
   ]
  },
  {
   "cell_type": "code",
   "execution_count": null,
   "metadata": {},
   "outputs": [],
   "source": [
    "outputProba/=outputProbaTimes"
   ]
  },
  {
   "cell_type": "code",
   "execution_count": null,
   "metadata": {
    "collapsed": true
   },
   "outputs": [],
   "source": [
    "np.putmask(outputProba, outputProba != outputProba, 0)\n"
   ]
  },
  {
   "cell_type": "code",
   "execution_count": null,
   "metadata": {},
   "outputs": [],
   "source": [
    "print(outputProba.min())\n",
    "print(outputProba.max())"
   ]
  },
  {
   "cell_type": "code",
   "execution_count": null,
   "metadata": {
    "collapsed": true
   },
   "outputs": [],
   "source": [
    "outputProbaThresh = outputProba > 0.8\n",
    "maskTresh = maskload > 0.5"
   ]
  },
  {
   "cell_type": "code",
   "execution_count": null,
   "metadata": {
    "collapsed": true
   },
   "outputs": [],
   "source": [
    "outputProbaThresh = remove_small_regions(outputProbaThresh, 0.02 * np.prod(patchShape))"
   ]
  },
  {
   "cell_type": "code",
   "execution_count": null,
   "metadata": {
    "collapsed": true
   },
   "outputs": [],
   "source": [
    "testDelAmore = np.dstack((outputProbaThresh.astype(np.int8), maskTresh.astype(np.int8), outputProbaThresh.astype(np.int8)))"
   ]
  },
  {
   "cell_type": "code",
   "execution_count": null,
   "metadata": {},
   "outputs": [],
   "source": [
    "plt.figure(figsize = (20,20)) # create a 5 x 5 figure *\n",
    "plt.subplot(211)\n",
    "plt.imshow(outputProba,interpolation='none', cmap=\"jet\")\n",
    "plt.show()\n",
    "\n",
    "#plt.close()"
   ]
  },
  {
   "cell_type": "code",
   "execution_count": null,
   "metadata": {},
   "outputs": [],
   "source": [
    "plt.figure(figsize = (20,20)) # create a 5 x 5 figure *\n",
    "plt.subplot(211)\n",
    "plt.imshow(testDelAmore,interpolation='none', cmap=\"jet\")\n",
    "plt.show()"
   ]
  },
  {
   "cell_type": "code",
   "execution_count": null,
   "metadata": {
    "collapsed": true
   },
   "outputs": [],
   "source": [
    "misc.imsave(folder_output + \"prediction/\" + output_name, testDelAmore)"
   ]
  },
  {
   "cell_type": "code",
   "execution_count": null,
   "metadata": {
    "collapsed": true
   },
   "outputs": [],
   "source": [
    "#Trying to save the file on the fly\n",
    "#maskImage = Image.fromarray(testDelAmore, 'RGB')\n",
    "#maskImage.save(\"../data/prediction/prediction_14-02_256_0.9_10-11-13-200-100.png\")"
   ]
  }
 ],
 "metadata": {
  "kernelspec": {
   "display_name": "Python 3",
   "language": "python",
   "name": "python3"
  },
  "language_info": {
   "codemirror_mode": {
    "name": "ipython",
    "version": 3
   },
   "file_extension": ".py",
   "mimetype": "text/x-python",
   "name": "python",
   "nbconvert_exporter": "python",
   "pygments_lexer": "ipython3",
   "version": "3.5.2"
  }
 },
 "nbformat": 4,
 "nbformat_minor": 2
}
