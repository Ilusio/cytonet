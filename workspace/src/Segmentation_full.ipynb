{
 "cells": [
  {
   "cell_type": "markdown",
   "metadata": {},
   "source": [
    "# Segmentation"
   ]
  },
  {
   "cell_type": "markdown",
   "metadata": {},
   "source": [
    "## Importing dependencies"
   ]
  },
  {
   "cell_type": "code",
   "execution_count": null,
   "metadata": {},
   "outputs": [],
   "source": [
    "import numpy as np\n",
    "from keras.models import load_model\n",
    "from skimage import morphology, io, color, exposure, img_as_float, transform\n",
    "from matplotlib import pyplot as plt\n",
    "import openslide as op\n",
    "from PIL import Image\n",
    "from scipy import misc\n",
    "import os\n",
    "import time\n",
    "import h5py\n",
    "import configparser\n",
    "import ast\n",
    "from util import mkdirs, extend_glob, file_suffix, remove_small_regions"
   ]
  },
  {
   "cell_type": "markdown",
   "metadata": {},
   "source": [
    "## Configuration"
   ]
  },
  {
   "cell_type": "code",
   "execution_count": null,
   "metadata": {
    "collapsed": true
   },
   "outputs": [],
   "source": [
    "config = configparser.RawConfigParser(interpolation=configparser.ExtendedInterpolation())\n",
    "config.read('cytonet.cfg')\n",
    "section = 'segmentation'"
   ]
  },
  {
   "cell_type": "code",
   "execution_count": null,
   "metadata": {},
   "outputs": [],
   "source": [
    "# Paths\n",
    "filenames = ast.literal_eval(config.get(section, 'filenames'))\n",
    "mask_pattern = config.get(section, 'mask_pattern')\n",
    "matrice_file = h5py.File(config.get(section, 'matrice_file') if config.has_option(section, 'matrice_file') \\\n",
    "                         else config.get('saving', 'output_file'),'r')\n",
    "output_pattern= config.get(section, 'output_pattern')\n",
    "\n",
    "experiment_folder = config.get(section, 'experiment_folder') if config.has_option(section, 'experiment_folder') \\\n",
    "                    else config.get('general', 'experiment_folder')\n",
    "model_name = os.path.join(experiment_folder,  \"matrices/\" , 'model.099.hdf5')\n",
    "\n",
    "load_level=config.getint(section, 'load_level') if config.has_option(section, 'load_level') else config.getint('general', 'load_level')\n",
    "patch_size = config.getint(section, 'patch_size') if config.has_option(section, 'patch_size') else config.getint('general', 'patch_size')\n",
    "stride = eval(config.get(section, 'stride'))\n",
    "\n",
    "color_channels = config.getint(section, 'color_channels') if config.has_option(section, 'color_channels') \\\n",
    "                else config.getint('general', 'color_channels')\n",
    "\n",
    "patch_shape = (patch_size, patch_size,color_channels) # Shape of the image (patch)\n",
    "patch_mask_shape = (patch_size, patch_size)   # Shape of the mask (patch)"
   ]
  },
  {
   "cell_type": "markdown",
   "metadata": {},
   "source": [
    "## Image loading"
   ]
  },
  {
   "cell_type": "code",
   "execution_count": null,
   "metadata": {},
   "outputs": [],
   "source": [
    "files = extend_glob(filenames)\n",
    "mkdirs(experiment_folder + \"prediction/\", 0o777)"
   ]
  },
  {
   "cell_type": "code",
   "execution_count": null,
   "metadata": {},
   "outputs": [],
   "source": [
    "# Load model\n",
    "UNet = load_model(model_name)"
   ]
  },
  {
   "cell_type": "code",
   "execution_count": null,
   "metadata": {},
   "outputs": [],
   "source": [
    "stats = matrice_file['stats'][:]\n",
    "im_mean=stats[0]\n",
    "im_std=stats[1]\n",
    "matrice_file.close()\n",
    "print(im_mean)\n",
    "print(im_std)"
   ]
  },
  {
   "cell_type": "markdown",
   "metadata": {},
   "source": [
    "### Loading base picture"
   ]
  },
  {
   "cell_type": "code",
   "execution_count": null,
   "metadata": {},
   "outputs": [],
   "source": [
    "for file in files:\n",
    "    maskname = file_suffix(file, mask_pattern)\n",
    "    print(maskname)\n",
    "    output_file = os.path.basename(file_suffix(file, output_pattern))\n",
    "    print(output_file)\n",
    "    im = op.OpenSlide(file)\n",
    "    imload = np.asfarray(im.read_region((0,0), load_level, im.level_dimensions[load_level]),dtype=np.float32)[:,:,0:color_channels]/255\n",
    "    print(im.level_dimensions)\n",
    "    print(imload.mean())\n",
    "    print(imload.std())\n",
    "    #imload-=imload.mean()\n",
    "    #imload/=imload.std()\n",
    "    imload-=im_mean\n",
    "    imload/=im_std\n",
    "\n",
    "    print(imload.mean())\n",
    "    print(imload.std())\n",
    "\n",
    "    maskload = Image.open(maskname)\n",
    "    maskload = np.expand_dims(np.array(maskload.resize(im.level_dimensions[load_level]),dtype=np.float32),-1)\n",
    "\n",
    "    outputProba = np.zeros((im.level_dimensions[load_level][1],im.level_dimensions[load_level][0]),dtype=np.float32)\n",
    "    outputProbaTimes = np.zeros((im.level_dimensions[load_level][1],im.level_dimensions[load_level][0]),dtype=np.uint8)\n",
    "\n",
    "    \n",
    "    t0 = time.clock()\n",
    "\n",
    "    # Prediction\n",
    "    for posX in range(0,im.level_dimensions[load_level][0]-patch_size,stride):\n",
    "        for posY in range(0,im.level_dimensions[load_level][1]-patch_size,stride):\n",
    "\n",
    "            xx = np.expand_dims(imload[posY:posY+patch_size,posX:posX+patch_size,:],0)\n",
    "            yy = maskload[posY:posY+patch_size,posX:posX+patch_size,:]\n",
    "            #xx = xx[:,:,:,0:1]\n",
    "            pred = UNet.predict(xx)[..., 0].reshape(patch_shape[:2])\n",
    "\n",
    "            part=outputProba[posY:posY+patch_size,posX:posX+patch_size]\n",
    "            part[:,:]+=pred[0:part.shape[0],0:part.shape[1]]\n",
    "            outputProbaTimes[posY:posY+patch_size,posX:posX+patch_size]+=1\n",
    "\n",
    "    t = time.clock()\n",
    "    print(\"Execution duration : \", t-t0)\n",
    "\n",
    "    outputProba/=outputProbaTimes\n",
    "    np.putmask(outputProba, outputProba != outputProba, 0)\n",
    "    print(outputProba.min())\n",
    "    print(outputProba.max())\n",
    "    outputProbaThresh = outputProba > 0.8\n",
    "    maskTresh = maskload > 0.5\n",
    "    outputProbaThresh = remove_small_regions(outputProbaThresh, 0.02 * np.prod(patch_size))\n",
    "    testDelAmore = np.dstack((outputProbaThresh.astype(np.int8), maskTresh.astype(np.int8), outputProbaThresh.astype(np.int8)))\n",
    "\n",
    "    plt.figure(figsize = (20,20)) # create a 5 x 5 figure *\n",
    "    plt.subplot(211)\n",
    "    plt.imshow(outputProba,interpolation='none', cmap=\"jet\")\n",
    "    plt.show()\n",
    "\n",
    "    plt.figure(figsize = (20,20)) # create a 5 x 5 figure *\n",
    "    plt.subplot(211)\n",
    "    plt.imshow(testDelAmore,interpolation='none', cmap=\"jet\")\n",
    "    plt.show()\n",
    "\n",
    "    misc.imsave(experiment_folder + \"prediction/\" + output_file, testDelAmore)"
   ]
  },
  {
   "cell_type": "code",
   "execution_count": null,
   "metadata": {
    "collapsed": true
   },
   "outputs": [],
   "source": []
  }
 ],
 "metadata": {
  "kernelspec": {
   "display_name": "Python 3",
   "language": "python",
   "name": "python3"
  },
  "language_info": {
   "codemirror_mode": {
    "name": "ipython",
    "version": 3
   },
   "file_extension": ".py",
   "mimetype": "text/x-python",
   "name": "python",
   "nbconvert_exporter": "python",
   "pygments_lexer": "ipython3",
   "version": "3.5.2"
  }
 },
 "nbformat": 4,
 "nbformat_minor": 2
}
