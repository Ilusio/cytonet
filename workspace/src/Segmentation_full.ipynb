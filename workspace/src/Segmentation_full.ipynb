{
 "cells": [
  {
   "cell_type": "markdown",
   "metadata": {},
   "source": [
    "# Segmentation"
   ]
  },
  {
   "cell_type": "markdown",
   "metadata": {},
   "source": [
    "## Importing dependencies"
   ]
  },
  {
   "cell_type": "code",
   "execution_count": null,
   "metadata": {},
   "outputs": [],
   "source": [
    "import numpy as np\n",
    "from keras.models import load_model\n",
    "from keras.preprocessing.image import ImageDataGenerator\n",
    "from skimage import morphology, io, color, exposure, img_as_float, transform\n",
    "from matplotlib import pyplot as plt\n",
    "import openslide as op\n",
    "from PIL import Image\n",
    "from util import IoU, Dice, masked, remove_small_regions, normalize\n",
    "from scipy import misc\n",
    "\n",
    "import time"
   ]
  },
  {
   "cell_type": "markdown",
   "metadata": {},
   "source": [
    "## Configuration"
   ]
  },
  {
   "cell_type": "code",
   "execution_count": null,
   "metadata": {
    "collapsed": true
   },
   "outputs": [],
   "source": [
    "# Paths\n",
    "filename = '/root/workspace/data/preExtraction/15_02/IFTA_15_02.svs'\n",
    "maskname = '/root/workspace/data/preExtraction/15_02/IFTA_15_02.png'\n",
    "\n",
    "model_name = './model.099.hdf5'\n",
    "\n",
    "# Do not touch\n",
    "level=1\n",
    "patchSize = 256\n",
    "colorChannels = 3\n",
    "stride = patchSize/2\n",
    "\n",
    "patchShape = (patchSize, patchSize,colorChannels) # Shape of the image (patch)\n",
    "patchMaskShape = (patchSize, patchSize)   # Shape of the mask (patch)"
   ]
  },
  {
   "cell_type": "markdown",
   "metadata": {},
   "source": [
    "## Image loading"
   ]
  },
  {
   "cell_type": "markdown",
   "metadata": {},
   "source": [
    "### Loading base picture"
   ]
  },
  {
   "cell_type": "code",
   "execution_count": null,
   "metadata": {
    "collapsed": true
   },
   "outputs": [],
   "source": [
    "im = op.OpenSlide(filename)\n",
    "imload = np.asfarray(im.read_region((0,0), 1, im.level_dimensions[1]),dtype=np.float32)[:,:,0:colorChannels]/255\n",
    "\n",
    "#normalization\n",
    "imload-=imload.mean()\n",
    "imload/=imload.std()"
   ]
  },
  {
   "cell_type": "markdown",
   "metadata": {},
   "source": [
    "### Loading mask"
   ]
  },
  {
   "cell_type": "code",
   "execution_count": null,
   "metadata": {
    "collapsed": true
   },
   "outputs": [],
   "source": [
    "maskload = Image.open(maskname)\n",
    "maskload = np.expand_dims(np.array(maskload.resize(im.level_dimensions[level]),dtype=np.float32),-1)"
   ]
  },
  {
   "cell_type": "markdown",
   "metadata": {},
   "source": [
    "### Allocating final array"
   ]
  },
  {
   "cell_type": "code",
   "execution_count": null,
   "metadata": {
    "collapsed": true
   },
   "outputs": [],
   "source": [
    "#output = np.zeros((im.level_dimensions[level][1],im.level_dimensions[level][0]),dtype=np.float32)"
   ]
  },
  {
   "cell_type": "code",
   "execution_count": null,
   "metadata": {
    "collapsed": true
   },
   "outputs": [],
   "source": [
    "outputThreshold = np.zeros((im.level_dimensions[level][1],im.level_dimensions[level][0], colorChannels),dtype=np.int8)"
   ]
  },
  {
   "cell_type": "markdown",
   "metadata": {},
   "source": [
    "## Loading model"
   ]
  },
  {
   "cell_type": "code",
   "execution_count": null,
   "metadata": {
    "collapsed": true
   },
   "outputs": [],
   "source": [
    "# Load model\n",
    "UNet = load_model(model_name)"
   ]
  },
  {
   "cell_type": "markdown",
   "metadata": {},
   "source": [
    "## Execution"
   ]
  },
  {
   "cell_type": "markdown",
   "metadata": {},
   "source": [
    "### Initialization  "
   ]
  },
  {
   "cell_type": "code",
   "execution_count": null,
   "metadata": {
    "collapsed": true
   },
   "outputs": [],
   "source": [
    "test_gen = ImageDataGenerator(rescale=1.)"
   ]
  },
  {
   "cell_type": "markdown",
   "metadata": {},
   "source": [
    "### Prediction"
   ]
  },
  {
   "cell_type": "code",
   "execution_count": null,
   "metadata": {},
   "outputs": [],
   "source": [
    "t0 = time.clock()\n",
    "\n",
    "# Prediction\n",
    "for posX in range(0,im.level_dimensions[level][0]-256,256):\n",
    "    for posY in range(0,im.level_dimensions[level][1]-256,256):\n",
    "        \n",
    "        xx = np.expand_dims(imload[posY:posY+256,posX:posX+256,:],0)\n",
    "        yy = maskload[posY:posY+256,posX:posX+256,:]\n",
    "\n",
    "        \n",
    "        #img = exposure.rescale_intensity(np.squeeze(xx), out_range=(0,1))\n",
    "        pred = UNet.predict(xx)[..., 0].reshape(patchShape[:2])\n",
    "        mask = yy[..., 0].reshape(patchShape[:2])\n",
    "        gt = mask > 0.5\n",
    "        pr = pred > 0.5\n",
    "        pr = remove_small_regions(pr, 0.02 * np.prod(patchShape))\n",
    "        #io.imsave('{}'.format(df.iloc[i].path), masked(img, gt, pr, 1))\n",
    "        #gts.append(gt)\n",
    "        #prs.append(pr)\n",
    "        #ious[i] = IoU(gt, pr)\n",
    "        #dices[i] = Dice(gt, pr)\n",
    "        #print(i, ious[i], dices[i])\n",
    "        \n",
    "        #outputPatches[i,:,:,:] = np.dstack((pr.astype(np.int8), gt.astype(np.int8), pr.astype(np.int8)))\n",
    "        outputPart = np.dstack((pr.astype(np.int8), gt.astype(np.int8), pr.astype(np.int8)))\n",
    "        #if i < 4:\n",
    "        #    plt.subplot(4, 4, 4*i+1)\n",
    "        #    plt.title('Processed ' + str(i))\n",
    "        #    plt.axis('off')\n",
    "        #    plt.imshow(img, cmap='gray')\n",
    "        #    plt.subplot(4, 4, 4 * i + 2)\n",
    "        #    plt.title('IoU = {:.4f}'.format(ious[i]))\n",
    "        #    plt.axis('off')\n",
    "        #    plt.imshow(masked(img, gt, pr, 1))\n",
    "        #    plt.subplot(4, 4, 4*i+3)\n",
    "        #    plt.title('Prediction')\n",
    "        #    plt.axis('off')\n",
    "        #    plt.imshow(pred, cmap='jet')\n",
    "        #    plt.subplot(4, 4, 4*i+4)\n",
    "        #    plt.title('Difference')\n",
    "        #    plt.axis('off')\n",
    "        #    plt.imshow(outputPart)\n",
    "\n",
    "        #Add the prediction patch to the output picture\n",
    "\n",
    "\n",
    "        #if i!=0 and i % modulo == 0:\n",
    "        #    iterX=0\n",
    "        #    iterY+=1\n",
    "\n",
    "\n",
    "        part=outputThreshold[posY:posY+256,posX:posX+256,:]\n",
    "        part[:,:,:]=outputPart[0:part.shape[0],0:part.shape[1],:]\n",
    "\n",
    "        #part=output[posY:posY+256,posX:posX+256]\n",
    "        #part[:,:]=pred[0:part.shape[0],0:part.shape[1]]\n",
    "\n",
    "t = time.clock()\n",
    "print(\"Execution duration : \", t-t0)"
   ]
  },
  {
   "cell_type": "code",
   "execution_count": null,
   "metadata": {},
   "outputs": [],
   "source": [
    "plt.figure(figsize = (20,20)) # create a 5 x 5 figure *\n",
    "plt.subplot(211)\n",
    "plt.imshow(outputThreshold,interpolation='none', cmap=\"jet\")\n",
    "plt.show()"
   ]
  },
  {
   "cell_type": "code",
   "execution_count": null,
   "metadata": {
    "collapsed": true
   },
   "outputs": [],
   "source": [
    "misc.imsave(\"prediction_15-02_voley.png\", outputThreshold)"
   ]
  },
  {
   "cell_type": "code",
   "execution_count": null,
   "metadata": {
    "collapsed": true
   },
   "outputs": [],
   "source": []
  }
 ],
 "metadata": {
  "kernelspec": {
   "display_name": "Python 3",
   "language": "python",
   "name": "python3"
  },
  "language_info": {
   "codemirror_mode": {
    "name": "ipython",
    "version": 3
   },
   "file_extension": ".py",
   "mimetype": "text/x-python",
   "name": "python",
   "nbconvert_exporter": "python",
   "pygments_lexer": "ipython3",
   "version": "3.5.2"
  }
 },
 "nbformat": 4,
 "nbformat_minor": 2
}
