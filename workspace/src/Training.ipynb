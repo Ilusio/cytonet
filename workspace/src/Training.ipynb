{
 "cells": [
  {
   "cell_type": "markdown",
   "metadata": {},
   "source": [
    "# Imports"
   ]
  },
  {
   "cell_type": "code",
   "execution_count": null,
   "metadata": {},
   "outputs": [],
   "source": [
    "from image_gen import ImageDataGenerator\n",
    "from load_data import loadData\n",
    "from build_model import build_UNet2D_4L\n",
    "from keras.optimizers import Adam\n",
    "from keras.utils.vis_utils import plot_model\n",
    "from keras.callbacks import ModelCheckpoint\n",
    "import glob\n",
    "import os\n",
    "import h5py"
   ]
  },
  {
   "cell_type": "markdown",
   "metadata": {},
   "source": [
    "# Configuration"
   ]
  },
  {
   "cell_type": "code",
   "execution_count": null,
   "metadata": {
    "collapsed": true
   },
   "outputs": [],
   "source": [
    "path=\"/root/workspace/data/mylungrgb/\" # path containing the images\n",
    "mask_format=\"_mask\" # suffix of the masks without the extension\n",
    "img_format=\".png\" # extension of the images\n",
    "valid_portion=0.2 # portion of validation set, should be between 0.0 and 1.0\n",
    "batch_size = 16 # size of the batch"
   ]
  },
  {
   "cell_type": "markdown",
   "metadata": {},
   "source": [
    "# Functions definition"
   ]
  },
  {
   "cell_type": "code",
   "execution_count": null,
   "metadata": {
    "collapsed": true
   },
   "outputs": [],
   "source": [
    "def getTimestamp():\n",
    "    \"\"\"\n",
    "        Return the timestamp\n",
    "    \"\"\"\n",
    "    import datetime\n",
    "    return datetime.datetime.now().strftime(\"%Y%m%d_%H%M%S\")"
   ]
  },
  {
   "cell_type": "code",
   "execution_count": null,
   "metadata": {
    "collapsed": true
   },
   "outputs": [],
   "source": [
    "# TODO : Improve this and check if folder exists\n",
    "def save_training_history(info, history):\n",
    "    \"\"\"\n",
    "        Save the history of the model\n",
    "    \"\"\"\n",
    "    import matplotlib.pyplot as plt\n",
    "    # list all data in history\n",
    "    print(history.history.keys())\n",
    "    # summarize history for loss\n",
    "    plt.plot(history.history['loss'])\n",
    "    plt.plot(history.history['val_loss'])\n",
    "    plt.title('model loss')\n",
    "    plt.ylabel('loss')\n",
    "    plt.xlabel('epoch')\n",
    "    plt.legend(['train', 'test'], loc='upper left')\n",
    "    plt.gcf().savefig('./' + info + '/loss_history.' + getTimestamp() + '.jpg')\n",
    "    # plt.show()\n",
    "\n",
    "    # summarize history for dice_coef\n",
    "    plt.plot(history.history['acc'])\n",
    "    plt.plot(history.history['val_acc'])\n",
    "    plt.title('model acc')\n",
    "    plt.ylabel('acc')\n",
    "    plt.xlabel('epoch')\n",
    "    plt.legend(['train', 'test'], loc='upper left')\n",
    "    plt.gcf().savefig('./' + info + '/acc_history.' + getTimestamp() + '.jpg')\n",
    "    # plt.show()\n",
    "\n",
    "    # history to json file\n",
    "    import json\n",
    "    with open('./' + info + '/log.' + getTimestamp() + '.json', 'w') as fp:\n",
    "        json.dump(history.history, fp, indent=True)"
   ]
  },
  {
   "cell_type": "markdown",
   "metadata": {},
   "source": [
    "# Code execution"
   ]
  },
  {
   "cell_type": "code",
   "execution_count": null,
   "metadata": {},
   "outputs": [],
   "source": [
    "# Get the data\n",
    "h5f = h5py.File('/root/workspace/data/mylungrgb/matrice_train.h5','r')\n",
    "X = h5f['imgs'][:]\n",
    "print(X.shape)\n",
    "y = h5f['masks'][:]\n",
    "print(y.shape)\n",
    "h5f.close()\n",
    "\n",
    "n_train = int(int(X.shape[0])*(1-valid_portion))\n",
    "X_train, y_train = X[:n_train], y[:n_train]\n",
    "X_val, y_val = X[n_train:], y[n_train:]"
   ]
  },
  {
   "cell_type": "code",
   "execution_count": null,
   "metadata": {
    "collapsed": true
   },
   "outputs": [],
   "source": [
    "# Generate the model\n",
    "inp_shape = X_train.shape[1:]\n",
    "UNet = build_UNet2D_4L(inp_shape)\n",
    "UNet.compile(optimizer='adam', loss='binary_crossentropy', metrics=['accuracy'])\n",
    "\n",
    "plot_model(UNet, 'model.png', show_shapes=True)"
   ]
  },
  {
   "cell_type": "code",
   "execution_count": null,
   "metadata": {
    "collapsed": true
   },
   "outputs": [],
   "source": [
    "# Data Augmentation\n",
    "# TODO : Put the parameters in config\n",
    "train_gen = ImageDataGenerator(rotation_range=180,\n",
    "                                width_shift_range=0.3,\n",
    "                                height_shift_range=0.3,\n",
    "                                rescale=1.,\n",
    "                                zoom_range=0.2,\n",
    "                                horizontal_flip = True,\n",
    "                                vertical_flip = True,\n",
    "                                fill_mode='reflect',\n",
    "                                cval=0)\n",
    "\n",
    "test_gen = ImageDataGenerator(rescale=1.)"
   ]
  },
  {
   "cell_type": "code",
   "execution_count": null,
   "metadata": {},
   "outputs": [],
   "source": [
    "# Train the model\n",
    "# TODO : Put the parameters in config\n",
    "model_file_format = 'model.{epoch:03d}.hdf5'\n",
    "\n",
    "checkpointer = ModelCheckpoint(model_file_format, period=10)\n",
    "\n",
    "history = UNet.fit_generator(train_gen.flow(X_train, y_train, batch_size),\n",
    "                            steps_per_epoch=(X_train.shape[0] + batch_size - 1) // batch_size,\n",
    "                            epochs=100,\n",
    "                            callbacks=[checkpointer],\n",
    "                            validation_data=test_gen.flow(X_val, y_val),\n",
    "                            validation_steps=(X_val.shape[0] + batch_size - 1) // batch_size)\n",
    "    \n",
    "save_training_history(\"graphs\", history)"
   ]
  }
 ],
 "metadata": {
  "kernelspec": {
   "display_name": "Python 3",
   "language": "python",
   "name": "python3"
  },
  "language_info": {
   "codemirror_mode": {
    "name": "ipython",
    "version": 3
   },
   "file_extension": ".py",
   "mimetype": "text/x-python",
   "name": "python",
   "nbconvert_exporter": "python",
   "pygments_lexer": "ipython3",
   "version": "3.5.2"
  }
 },
 "nbformat": 4,
 "nbformat_minor": 2
}
