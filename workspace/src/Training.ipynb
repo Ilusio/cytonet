{
 "cells": [
  {
   "cell_type": "markdown",
   "metadata": {},
   "source": [
    "# Imports"
   ]
  },
  {
   "cell_type": "code",
   "execution_count": null,
   "metadata": {},
   "outputs": [],
   "source": [
    "from keras.optimizers import Adam\n",
    "from keras.utils.vis_utils import plot_model\n",
    "from keras.callbacks import ModelCheckpoint\n",
    "from keras.utils.np_utils import to_categorical\n",
    "import build_model\n",
    "from util import mkdirs\n",
    "from image_gen import ImageDataGenerator\n",
    "import matplotlib.pyplot as plt\n",
    "import numpy as np\n",
    "import glob\n",
    "import os\n",
    "import sys\n",
    "import h5py\n",
    "import configparser\n",
    "import ast"
   ]
  },
  {
   "cell_type": "markdown",
   "metadata": {},
   "source": [
    "# Configuration"
   ]
  },
  {
   "cell_type": "code",
   "execution_count": null,
   "metadata": {
    "collapsed": true
   },
   "outputs": [],
   "source": [
    "#TODO : maybe put this in the configuration file\n",
    "\n",
    "# Choose the one of the UNet model\n",
    "model_func = build_model.build_UNet_softmax"
   ]
  },
  {
   "cell_type": "code",
   "execution_count": null,
   "metadata": {
    "collapsed": true
   },
   "outputs": [],
   "source": [
    "config = configparser.RawConfigParser(interpolation=configparser.ExtendedInterpolation())\n",
    "config.read('cytonet.cfg')\n",
    "section = 'training'"
   ]
  },
  {
   "cell_type": "code",
   "execution_count": null,
   "metadata": {},
   "outputs": [],
   "source": [
    "valid_portion      = config.getfloat(section, 'valid_portion')\n",
    "batch_size         = config.getint(section, 'batch_size')\n",
    "classes            = ast.literal_eval(config.get(section, 'classes') if config.has_option(section, 'classes') else config.get('general', 'classes'))\n",
    "matrice_file       = config.get(section, 'matrice_file') if config.has_option(section, 'matrice_file') else config.get('saving', 'output_file')\n",
    "experiment_folder  = config.get('general', 'experiment_folder')\n",
    "patch_size         = config.getint('general', 'patch_size')\n",
    "nb_classes         = len(classes)\n",
    "\n",
    "#Data augmentation variables\n",
    "data_augmentation  = config.getboolean(section, 'data_augmentation')\n",
    "rotation_range     = config.getint(section, 'rotation_range')\n",
    "width_shift_range  = config.getfloat(section, 'width_shift_range')\n",
    "height_shift_range = config.getfloat(section, 'height_shift_range')\n",
    "rescale            = config.getfloat(section, 'rescale')\n",
    "zoom_range         = config.getfloat(section, 'zoom_range')\n",
    "\n",
    "horizontal_flip    = config.getboolean(section, 'horizontal_flip')\n",
    "vertical_flip      = config.getboolean(section, 'vertical_flip')"
   ]
  },
  {
   "cell_type": "markdown",
   "metadata": {},
   "source": [
    "# Creating necessary folder"
   ]
  },
  {
   "cell_type": "code",
   "execution_count": null,
   "metadata": {
    "collapsed": true
   },
   "outputs": [],
   "source": [
    "# creating folders\n",
    "mkdirs(experiment_folder + \"model/\", 0o777)\n",
    "mkdirs(experiment_folder + \"matrices/\", 0o777)\n",
    "mkdirs(experiment_folder + \"graphs/\", 0o777)"
   ]
  },
  {
   "cell_type": "markdown",
   "metadata": {},
   "source": [
    "# Functions definition"
   ]
  },
  {
   "cell_type": "code",
   "execution_count": null,
   "metadata": {
    "collapsed": true
   },
   "outputs": [],
   "source": [
    "def getTimestamp():\n",
    "    \"\"\"\n",
    "        Return the timestamp\n",
    "    \"\"\"\n",
    "    import datetime\n",
    "    return datetime.datetime.now().strftime(\"%Y%m%d_%H%M%S\")"
   ]
  },
  {
   "cell_type": "code",
   "execution_count": null,
   "metadata": {
    "collapsed": true
   },
   "outputs": [],
   "source": [
    "# TODO : Improve this and check if folder exists\n",
    "def save_training_history(info, history):\n",
    "    \"\"\"\n",
    "        Save the history of the model\n",
    "    \"\"\"\n",
    "    plt.clf()\n",
    "    # list all data in history\n",
    "    print(history.history.keys())\n",
    "    # summarize history for loss\n",
    "    plt.plot(history.history['loss'])\n",
    "    plt.plot(history.history['val_loss'])\n",
    "    plt.title('model loss')\n",
    "    plt.ylabel('loss')\n",
    "    plt.xlabel('epoch')\n",
    "    plt.legend(['train', 'test'], loc='upper left')\n",
    "    plt.gcf().savefig(info + '/loss_history.' + getTimestamp() + '.jpg')\n",
    "    # plt.show()\n",
    "    plt.clf()\n",
    "    # summarize history for dice_coef\n",
    "    plt.plot(history.history['categorical_accuracy'])\n",
    "    plt.plot(history.history['val_categorical_accuracy'])\n",
    "    plt.title('model acc')\n",
    "    plt.ylabel('acc')\n",
    "    plt.xlabel('epoch')\n",
    "    plt.legend(['train', 'test'], loc='upper left')\n",
    "    plt.gcf().savefig(info + '/acc_history.' + getTimestamp() + '.jpg')\n",
    "    # plt.show()\n",
    "\n",
    "    # history to json file\n",
    "    import json\n",
    "    with open(info + '/log.' + getTimestamp() + '.json', 'w') as fp:\n",
    "        json.dump(history.history, fp, indent=True)"
   ]
  },
  {
   "cell_type": "markdown",
   "metadata": {},
   "source": [
    "# Code execution"
   ]
  },
  {
   "cell_type": "code",
   "execution_count": null,
   "metadata": {
    "collapsed": true
   },
   "outputs": [],
   "source": [
    "# Get the data from the h5 file created after extraction + saving\n",
    "h5f = h5py.File(matrice_file,'r')\n",
    "\n",
    "# Create the sets for training and validation\n",
    "X_train, y_train = np.array([]).reshape((0,patch_size,patch_size,3)), np.array([]).reshape((0,patch_size,patch_size,nb_classes))\n",
    "X_val, y_val = np.array([]).reshape((0,patch_size,patch_size,3)), np.array([]).reshape((0,patch_size,patch_size,nb_classes))\n",
    "\n",
    "# Add the data in the training and validation sets\n",
    "for key, val in classes.items():\n",
    "    imgs = h5f[key+'_imgs'][:]\n",
    "    masks = h5f[key+'_masks'][:]\n",
    "    n_train = int(imgs.shape[0] * (1-valid_portion))\n",
    "    \n",
    "    X_train = np.concatenate((X_train,imgs[:n_train]))\n",
    "    y_train_cat=to_categorical(masks[:n_train], num_classes=nb_classes) #Converting mask to one-hot encoded vectors \n",
    "    y_train_cat=y_train_cat.reshape((masks[:n_train].shape[0],masks[:n_train].shape[1],masks[:n_train].shape[2],y_train_cat.shape[1]))\n",
    "    y_train = np.concatenate((y_train,y_train_cat))\n",
    "    \n",
    "    X_val = np.concatenate((X_val,imgs[n_train:]))\n",
    "    y_val_cat=to_categorical(masks[n_train:], num_classes=nb_classes) #Converting mask to one-hot encoded vectors \n",
    "    y_val_cat=y_val_cat.reshape((masks[n_train:].shape[0],masks[n_train:].shape[1],masks[n_train:].shape[2],y_val_cat.shape[1]))\n",
    "    y_val = np.concatenate((y_val,y_val_cat))\n",
    "h5f.close()"
   ]
  },
  {
   "cell_type": "code",
   "execution_count": null,
   "metadata": {
    "collapsed": true
   },
   "outputs": [],
   "source": [
    "# Generate the model\n",
    "inp_shape = X_train.shape[1:]\n",
    "UNet = model_func(inp_shape, nb_classes)\n",
    "UNet.compile(optimizer='adam', loss=\"categorical_crossentropy\", metrics=['categorical_accuracy'], sample_weight_mode=\"temporal\")\n",
    "\n",
    "plot_model(UNet, os.path.join(experiment_folder,\"model\",\"model.png\"), show_shapes=True)"
   ]
  },
  {
   "cell_type": "code",
   "execution_count": null,
   "metadata": {
    "collapsed": true
   },
   "outputs": [],
   "source": [
    "f = open(os.path.join(experiment_folder,'config_value'), 'w')\n",
    "conf_model=\"loss : \" + UNet.loss + '\\n' + \"metrics : \" + str(UNet.metrics) + '\\n' + \"function :\" + str(model_func) + '\\n'\n",
    "f.write(conf_model)\n",
    "f.close()  # you can omit in most cases as the destructor will call it"
   ]
  },
  {
   "cell_type": "code",
   "execution_count": null,
   "metadata": {},
   "outputs": [],
   "source": [
    "# Data Augmentation\n",
    "if data_augmentation:\n",
    "    print(\"with data augmentation\")\n",
    "    train_gen = ImageDataGenerator(nb_classes=nb_classes,\n",
    "                                   rotation_range=rotation_range,\n",
    "                                    width_shift_range=width_shift_range,\n",
    "                                    height_shift_range=height_shift_range,\n",
    "                                    rescale=rescale,\n",
    "                                    zoom_range=zoom_range,\n",
    "                                    horizontal_flip = horizontal_flip,\n",
    "                                    vertical_flip = vertical_flip,\n",
    "                                    fill_mode='reflect',\n",
    "                                    cval=0)\n",
    "else:\n",
    "    print(\"without data augmentation\")\n",
    "\n",
    "    train_gen = ImageDataGenerator(nb_classes=nb_classes,\n",
    "                              rescale=1.)\n",
    "\n",
    "#train_gen = ImageDataGenerator(rescale=1.)\n",
    "test_gen = ImageDataGenerator(nb_classes=nb_classes,\n",
    "                              rescale=1.)"
   ]
  },
  {
   "cell_type": "code",
   "execution_count": null,
   "metadata": {
    "collapsed": true
   },
   "outputs": [],
   "source": [
    "#Saving summary into the model folder\n",
    "orig_stdout = sys.stdout\n",
    "f = open(os.path.join(experiment_folder,\"model\",\"summary.txt\"), 'w')\n",
    "sys.stdout = f\n",
    "print(UNet.summary())\n",
    "sys.stdout = orig_stdout\n",
    "f.close()"
   ]
  },
  {
   "cell_type": "code",
   "execution_count": null,
   "metadata": {},
   "outputs": [],
   "source": [
    "# TODO : Put the parameters in config\n",
    "model_file_format = os.path.join(experiment_folder, \"matrices\", 'model.{epoch:03d}.hdf5') \n",
    "\n",
    "checkpointer = ModelCheckpoint(model_file_format, period=10)\n",
    "\n",
    "history = UNet.fit_generator(train_gen.flow(X_train, y_train, batch_size),\n",
    "                            steps_per_epoch=(X_train.shape[0] + batch_size - 1) // batch_size,\n",
    "                            epochs=100,\n",
    "                            callbacks=[checkpointer],\n",
    "                            validation_data=test_gen.flow(X_val, y_val),\n",
    "                            validation_steps=(X_val.shape[0] + batch_size - 1) // batch_size)\n",
    "    \n",
    "save_training_history(os.path.join(experiment_folder,\"graphs\"), history)"
   ]
  }
 ],
 "metadata": {
  "kernelspec": {
   "display_name": "Python 3",
   "language": "python",
   "name": "python3"
  },
  "language_info": {
   "codemirror_mode": {
    "name": "ipython",
    "version": 3
   },
   "file_extension": ".py",
   "mimetype": "text/x-python",
   "name": "python",
   "nbconvert_exporter": "python",
   "pygments_lexer": "ipython3",
   "version": "3.5.2"
  }
 },
 "nbformat": 4,
 "nbformat_minor": 2
}
