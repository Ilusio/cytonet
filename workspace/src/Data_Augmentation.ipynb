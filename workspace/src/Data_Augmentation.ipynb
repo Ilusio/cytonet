{
 "cells": [
  {
   "cell_type": "code",
   "execution_count": 1,
   "metadata": {},
   "outputs": [
    {
     "name": "stderr",
     "output_type": "stream",
     "text": [
      "Using TensorFlow backend.\n"
     ]
    }
   ],
   "source": [
    "import numpy as np\n",
    "import re\n",
    "from scipy import linalg\n",
    "import scipy.ndimage as ndi\n",
    "from six.moves import range\n",
    "import os\n",
    "import threading\n",
    "import warnings\n",
    "import glob\n",
    "from PIL import Image\n",
    "from keras import backend as K\n",
    "import pandas as pd\n",
    "import cv2\n",
    "from scipy.ndimage.interpolation import map_coordinates\n",
    "from scipy.ndimage.filters import gaussian_filter\n",
    "import matplotlib.pyplot as plt\n",
    "import random\n",
    "try:\n",
    "    from PIL import Image as pil_image\n",
    "except ImportError:\n",
    "    pil_image = None\n",
    "from transformations import transform_patch\n",
    "import configparser\n",
    "import ast"
   ]
  },
  {
   "cell_type": "markdown",
   "metadata": {
    "collapsed": true
   },
   "source": [
    "# Configuration"
   ]
  },
  {
   "cell_type": "code",
   "execution_count": 2,
   "metadata": {
    "collapsed": true
   },
   "outputs": [],
   "source": [
    "config = configparser.RawConfigParser(interpolation=configparser.ExtendedInterpolation())\n",
    "config.read('cytonet.cfg')\n",
    "section = 'augmentation'"
   ]
  },
  {
   "cell_type": "code",
   "execution_count": 3,
   "metadata": {
    "collapsed": true
   },
   "outputs": [],
   "source": [
    "input_folder = config.get(section, 'input_folder') if config.has_option(section, 'input_folder') else config.get('extraction', 'output_folder')\n",
    "files_pattern = config.get(section, 'files_pattern')\n",
    "classes = ast.literal_eval(config.get(section, 'classes')) "
   ]
  },
  {
   "cell_type": "markdown",
   "metadata": {},
   "source": [
    "# Code execution"
   ]
  },
  {
   "cell_type": "code",
   "execution_count": 4,
   "metadata": {},
   "outputs": [
    {
     "name": "stdout",
     "output_type": "stream",
     "text": [
      "Data augmentation for  neg  done\n",
      "Data augmentation for  pos  done\n"
     ]
    }
   ],
   "source": [
    "for one_class, nb_patches in classes.items():\n",
    "    filenames = os.path.join(input_folder, one_class, files_pattern)\n",
    "    filenames = glob.glob(filenames)\n",
    "    if(classes[one_class] < 0):\n",
    "        nb_patches=-1-classes[one_class]\n",
    "        for file in filenames:\n",
    "            for j in range(nb_patches):\n",
    "                transform_patch(file,j)\n",
    "    else:\n",
    "        nb_patches = len(filenames)\n",
    "        while(nb_patches<classes[one_class]):\n",
    "            rdn = random.randint(0,len(filenames)-1)\n",
    "            file = filenames[rdn]\n",
    "            transform_patch(file, nb_patches)\n",
    "            nb_patches += 1  \n",
    "    print(\"Data augmentation for \", one_class, \" done\")"
   ]
  }
 ],
 "metadata": {
  "kernelspec": {
   "display_name": "Python 3",
   "language": "python",
   "name": "python3"
  },
  "language_info": {
   "codemirror_mode": {
    "name": "ipython",
    "version": 3
   },
   "file_extension": ".py",
   "mimetype": "text/x-python",
   "name": "python",
   "nbconvert_exporter": "python",
   "pygments_lexer": "ipython3",
   "version": "3.5.2"
  }
 },
 "nbformat": 4,
 "nbformat_minor": 2
}
