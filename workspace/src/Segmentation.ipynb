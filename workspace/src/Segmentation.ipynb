{
 "cells": [
  {
   "cell_type": "markdown",
   "metadata": {},
   "source": [
    "# Import"
   ]
  },
  {
   "cell_type": "code",
   "execution_count": null,
   "metadata": {},
   "outputs": [],
   "source": [
    "import numpy as np\n",
    "import pandas as pd\n",
    "from load_data import loadData\n",
    "from util import IoU, Dice, masked, remove_small_regions\n",
    "from keras.models import load_model, model_from_json\n",
    "from keras.preprocessing.image import ImageDataGenerator\n",
    "from skimage import morphology, io, color, exposure, img_as_float, transform\n",
    "from matplotlib import pyplot as plt\n",
    "import json\n",
    "import os\n",
    "import glob"
   ]
  },
  {
   "cell_type": "markdown",
   "metadata": {},
   "source": [
    "# Configuration"
   ]
  },
  {
   "cell_type": "code",
   "execution_count": null,
   "metadata": {
    "collapsed": true
   },
   "outputs": [],
   "source": [
    "im_shape = (256, 256,3) # Shape of the image (patch)\n",
    "mask_shape = (256, 256) # Shape of the msage\n",
    "model_name = 'model.099.hdf5' # Name of the mode file\n",
    "path = '/root/workspace/data/mylungrgbtest/' # path of files \n",
    "mask_format=\"_mask\" # suffix of the masks without the extension\n",
    "img_format=\".png\" # extension of the images"
   ]
  },
  {
   "cell_type": "markdown",
   "metadata": {},
   "source": [
    "# Code Exection"
   ]
  },
  {
   "cell_type": "code",
   "execution_count": null,
   "metadata": {
    "collapsed": true
   },
   "outputs": [],
   "source": [
    "# Get the files\n",
    "# TODO :  Improve maybe ?\n",
    "files = glob.glob(os.path.join(path,\"*3*[!\"+mask_format+\"]\"+img_format))"
   ]
  },
  {
   "cell_type": "code",
   "execution_count": null,
   "metadata": {},
   "outputs": [],
   "source": [
    "# Load test data\n",
    "X, y = loadData(files, img_format, mask_format)\n",
    "n_test = X.shape[0]"
   ]
  },
  {
   "cell_type": "code",
   "execution_count": null,
   "metadata": {},
   "outputs": [],
   "source": [
    "# Load model\n",
    "inp_shape = X[0].shape\n",
    "print(inp_shape)\n",
    "# TODO : Check if file exists\n",
    "UNet = load_model(model_name)"
   ]
  },
  {
   "cell_type": "code",
   "execution_count": null,
   "metadata": {},
   "outputs": [],
   "source": [
    "# Initialization\n",
    "test_gen = ImageDataGenerator(rescale=1.)\n",
    "ious = np.zeros(n_test)\n",
    "dices = np.zeros(n_test)\n",
    "gts, prs = [], []\n",
    "i = 0\n",
    "plt.figure(figsize=(10, 10))"
   ]
  },
  {
   "cell_type": "code",
   "execution_count": null,
   "metadata": {},
   "outputs": [],
   "source": [
    "# Prediction\n",
    "for xx, yy in test_gen.flow(X, y, batch_size=1):\n",
    "    img = exposure.rescale_intensity(np.squeeze(xx), out_range=(0,1))\n",
    "    pred = UNet.predict(xx)[..., 0].reshape(inp_shape[:2])\n",
    "    mask = yy[..., 0].reshape(inp_shape[:2])\n",
    "    gt = mask > 0.5\n",
    "    pr = pred > 0.5\n",
    "    pr = remove_small_regions(pr, 0.02 * np.prod(im_shape))\n",
    "    #io.imsave('{}'.format(df.iloc[i].path), masked(img, gt, pr, 1))\n",
    "    gts.append(gt)\n",
    "    prs.append(pr)\n",
    "    ious[i] = IoU(gt, pr)\n",
    "    dices[i] = Dice(gt, pr)\n",
    "    print(i, ious[i], dices[i])\n",
    "    if i < 4:\n",
    "        plt.subplot(4, 4, 4*i+1)\n",
    "        plt.title('Processed ' + str(i))\n",
    "        plt.axis('off')\n",
    "        plt.imshow(img, cmap='gray')\n",
    "        plt.subplot(4, 4, 4 * i + 2)\n",
    "        plt.title('IoU = {:.4f}'.format(ious[i]))\n",
    "        plt.axis('off')\n",
    "        plt.imshow(masked(img, gt, pr, 1))\n",
    "        plt.subplot(4, 4, 4*i+3)\n",
    "        plt.title('Prediction')\n",
    "        plt.axis('off')\n",
    "        plt.imshow(pred, cmap='jet')\n",
    "        plt.subplot(4, 4, 4*i+4)\n",
    "        plt.title('Difference')\n",
    "        plt.axis('off')\n",
    "        plt.imshow(np.dstack((pr.astype(np.int8), gt.astype(np.int8), pr.astype(np.int8))))\n",
    "    i += 1\n",
    "    if i == n_test:\n",
    "        break\n",
    "print('Mean IoU:', ious.mean())\n",
    "print('Mean Dice:', dices.mean())\n",
    "plt.tight_layout()\n",
    "plt.savefig('results.png')\n",
    "plt.show()"
   ]
  },
  {
   "cell_type": "code",
   "execution_count": null,
   "metadata": {
    "collapsed": true
   },
   "outputs": [],
   "source": []
  }
 ],
 "metadata": {
  "kernelspec": {
   "display_name": "Python 3",
   "language": "python",
   "name": "python3"
  },
  "language_info": {
   "codemirror_mode": {
    "name": "ipython",
    "version": 3
   },
   "file_extension": ".py",
   "mimetype": "text/x-python",
   "name": "python",
   "nbconvert_exporter": "python",
   "pygments_lexer": "ipython3",
   "version": "3.5.2"
  }
 },
 "nbformat": 4,
 "nbformat_minor": 2
}
