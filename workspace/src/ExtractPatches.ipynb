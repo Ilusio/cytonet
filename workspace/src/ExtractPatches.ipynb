{
 "cells": [
  {
   "cell_type": "markdown",
   "metadata": {},
   "source": [
    "# Imports"
   ]
  },
  {
   "cell_type": "code",
   "execution_count": null,
   "metadata": {
    "collapsed": true
   },
   "outputs": [],
   "source": [
    "import openslide as op\n",
    "from PIL import Image\n",
    "import numpy as np\n",
    "import random\n",
    "import glob\n",
    "import os\n",
    "import util\n",
    "import h5py\n",
    "import cv2\n",
    "from skimage import measure\n",
    "from matplotlib import pyplot as plt\n",
    "from scipy import misc, ndimage\n",
    "from skimage import morphology\n",
    "from skimage import color\n",
    "from skimage import io\n",
    "import time\n",
    "from extract import extractFiles\n",
    "import configparser\n",
    "import ast\n",
    "from util import extend_glob"
   ]
  },
  {
   "cell_type": "markdown",
   "metadata": {},
   "source": [
    "# Configuration"
   ]
  },
  {
   "cell_type": "code",
   "execution_count": null,
   "metadata": {
    "collapsed": true
   },
   "outputs": [],
   "source": [
    "config = configparser.RawConfigParser(interpolation=configparser.ExtendedInterpolation())\n",
    "config.read('cytonet.cfg')\n",
    "section = 'extraction'"
   ]
  },
  {
   "cell_type": "code",
   "execution_count": null,
   "metadata": {
    "collapsed": true
   },
   "outputs": [],
   "source": [
    "filenames=  ast.literal_eval(config.get(section, 'filenames'))\n",
    "output_folder = config.get(section, 'output_folder')\n",
    "mask_pattern= config.get(section, 'mask_pattern')\n",
    "\n",
    "classes = ast.literal_eval(config.get(section, 'classes') if config.has_option(section, 'classes') else config.get('general', 'classes'))\n",
    "load_level=config.getint(section, 'load_level') if config.has_option(section, 'patch_size') else config.getint('general', 'load_level')\n",
    "patch_size = config.getint(section, 'patch_size') if config.has_option(section, 'patch_size') else config.getint('general', 'patch_size')"
   ]
  },
  {
   "cell_type": "markdown",
   "metadata": {},
   "source": [
    "# Code Execution"
   ]
  },
  {
   "cell_type": "code",
   "execution_count": null,
   "metadata": {},
   "outputs": [],
   "source": [
    "# Get the files for training\n",
    "files_train= extend_glob(filenames)\n",
    "print(files_train)"
   ]
  },
  {
   "cell_type": "code",
   "execution_count": null,
   "metadata": {},
   "outputs": [],
   "source": [
    "# Training extraction\n",
    "import time\n",
    "start = time.time()\n",
    "extractFiles(files_train,\n",
    "            output_folder, \n",
    "            mask_pattern, \n",
    "            classes, \n",
    "            load_level, \n",
    "            patch_size)\n",
    "end = time.time()\n",
    "print(\"Time : \", end-start)"
   ]
  }
 ],
 "metadata": {
  "kernelspec": {
   "display_name": "Python 3",
   "language": "python",
   "name": "python3"
  },
  "language_info": {
   "codemirror_mode": {
    "name": "ipython",
    "version": 3
   },
   "file_extension": ".py",
   "mimetype": "text/x-python",
   "name": "python",
   "nbconvert_exporter": "python",
   "pygments_lexer": "ipython3",
   "version": "3.5.2"
  }
 },
 "nbformat": 4,
 "nbformat_minor": 2
}
