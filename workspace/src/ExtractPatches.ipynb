{
 "cells": [
  {
   "cell_type": "markdown",
   "metadata": {},
   "source": [
    "# Imports"
   ]
  },
  {
   "cell_type": "code",
   "execution_count": null,
   "metadata": {},
   "outputs": [],
   "source": [
    "import openslide as op\n",
    "from PIL import Image\n",
    "import numpy as np\n",
    "import random\n",
    "import glob\n",
    "import os\n",
    "import util\n",
    "import h5py\n",
    "import cv2\n",
    "from skimage import measure\n",
    "from matplotlib import pyplot as plt\n",
    "from scipy import misc, ndimage\n",
    "from skimage import morphology\n",
    "from skimage import color\n",
    "from skimage import io\n",
    "import time\n",
    "from extract import extractFiles"
   ]
  },
  {
   "cell_type": "markdown",
   "metadata": {},
   "source": [
    "# Configuration"
   ]
  },
  {
   "cell_type": "code",
   "execution_count": null,
   "metadata": {
    "collapsed": true
   },
   "outputs": [],
   "source": [
    "filenames_train = ['/root/workspace/data/SVS_train/*.svs'] # Files we will extract for training. You can use pattern suchs as *.svs\n",
    "outputFolder_train = '/root/workspace/data/extracted' # Output folder for training\n",
    "maskPattern= '*.png' # Pattern for the maskfilesoutputFile,\n",
    "\n",
    "classes = {'neg': 0, 'pos' : 1, 'back' : 2} # Classes and their value\n",
    "max_classes = {}\n",
    "\n",
    "#Option\n",
    "img_classes = {'neg' : None ,'back':20, 'pos' : 0} # Number of patches to extract for each class\n",
    "level=2 # Index from which to take the image #TODO: verify that the index is sorted and at the same scale\n",
    "patchSize = 64 # Size of the patches\n",
    "\n",
    "#TODO give a name describing the extraction or include file in folder: patchsize, index, files used, nb extracted per class\n",
    "outputFolder_train +=  \"_i\" + str(level) + \"_p\" + str(patchSize)"
   ]
  },
  {
   "cell_type": "markdown",
   "metadata": {},
   "source": [
    "# Code Execution"
   ]
  },
  {
   "cell_type": "code",
   "execution_count": null,
   "metadata": {},
   "outputs": [],
   "source": [
    "# Get the files for training\n",
    "files_train = []\n",
    "for filename in filenames_train:\n",
    "    files_train.extend(glob.glob(filename))\n",
    "print(files_train)"
   ]
  },
  {
   "cell_type": "code",
   "execution_count": null,
   "metadata": {},
   "outputs": [],
   "source": [
    "# Training extraction\n",
    "import time\n",
    "start = time.time()\n",
    "extractFiles(files_train,\n",
    "            outputFolder_train, \n",
    "            maskPattern, \n",
    "            classes, \n",
    "            max_classes, \n",
    "            img_classes, \n",
    "            level, \n",
    "            patchSize)\n",
    "end = time.time()\n",
    "print(\"Time : \", end-start)"
   ]
  }
 ],
 "metadata": {
  "kernelspec": {
   "display_name": "Python 3",
   "language": "python",
   "name": "python3"
  },
  "language_info": {
   "codemirror_mode": {
    "name": "ipython",
    "version": 3
   },
   "file_extension": ".py",
   "mimetype": "text/x-python",
   "name": "python",
   "nbconvert_exporter": "python",
   "pygments_lexer": "ipython3",
   "version": "3.5.2"
  }
 },
 "nbformat": 4,
 "nbformat_minor": 2
}
