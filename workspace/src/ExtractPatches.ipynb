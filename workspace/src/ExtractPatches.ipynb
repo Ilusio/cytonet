{
 "cells": [
  {
   "cell_type": "markdown",
   "metadata": {},
   "source": [
    "# Imports"
   ]
  },
  {
   "cell_type": "code",
   "execution_count": null,
   "metadata": {
    "collapsed": true
   },
   "outputs": [],
   "source": [
    "import openslide as op\n",
    "from PIL import Image\n",
    "import numpy as np\n",
    "import random\n",
    "import glob\n",
    "import os\n",
    "from scipy import misc, ndimage\n",
    "from skimage import morphology\n",
    "from skimage import color\n",
    "from skimage import io"
   ]
  },
  {
   "cell_type": "markdown",
   "metadata": {},
   "source": [
    "# Functions definition"
   ]
  },
  {
   "cell_type": "code",
   "execution_count": null,
   "metadata": {
    "collapsed": true
   },
   "outputs": [],
   "source": [
    "def addBackground(imArray, maskArray):\n",
    "    \"\"\"\n",
    "        Find the background on the array and put the value 2 on the mask\n",
    "    \"\"\"\n",
    "    green = imArray[:,:,1]\n",
    "    indexes = np.where(green<200)\n",
    "    background = np.zeros(maskArray.shape)\n",
    "    for i in range(len(indexes[0])):\n",
    "        background[indexes[0][i],indexes[1][i]]=1\n",
    "    # Morphological operations\n",
    "    slem = morphology.disk(10)\n",
    "    background = morphology.closing(background,slem)\n",
    "    background = morphology.erosion(background,slem)\n",
    "    background = ndimage.morphology.binary_fill_holes(background)\n",
    "    # Change the original mask\n",
    "    backgroundIndex = np.where(background==0)\n",
    "    backArray = np.array(maskArray)\n",
    "    for i in range(len(backgroundIndex[0])):\n",
    "        backArray[backgroundIndex[0][i],backgroundIndex[1][i]]=2\n",
    "    return backArray"
   ]
  },
  {
   "cell_type": "code",
   "execution_count": null,
   "metadata": {},
   "outputs": [],
   "source": [
    "def extractPatches(output,filename,maskname):\n",
    "   \"\"\"\n",
    "       Extract the patches for the given file and maskname\n",
    "   \"\"\"\n",
    "   global j\n",
    "   # Opening the files\n",
    "   im = op.OpenSlide(filename)\n",
    "   imload = im.read_region((0,0), 1, im.level_dimensions[1])\n",
    "   mask = Image.open(maskname)\n",
    "   if(imload.size != mask.size):\n",
    "      mask = mask.resize(imload.size, Image.ANTIALIAS)\n",
    "   imArray = np.array(imload)\n",
    "   maskArray = np.array(mask)\n",
    "   halfPatch = patchSize//2\n",
    "\n",
    "   #Preprocess\n",
    "   #maskArray = addBackground(imArray, maskArray)\n",
    "   imArray = np.lib.pad(imArray, ((halfPatch, halfPatch), (halfPatch, halfPatch),(0,0)), 'reflect')\n",
    "   maskArrayPad = np.lib.pad(maskArray, ((halfPatch, halfPatch), (halfPatch, halfPatch)), 'reflect')\n",
    "   \n",
    "   # Extraction\n",
    "   for key, val in classes.items():\n",
    "       indices = np.where(maskArray==val)\n",
    "       sample = random.sample(range(len(indices[0])), img_classes[key])\n",
    "       maskClass = np.array(maskArrayPad)\n",
    "       if(val==1):\n",
    "           np.putmask(maskClass, maskClass==val, 255)\n",
    "       for i in sample:\n",
    "           x=indices[0][i]\n",
    "           y=indices[1][i]\n",
    "           x2 = x+patchSize\n",
    "           y2 = y+patchSize\n",
    "           croppedIm = imArray[x:x2,y:y2,0:3]\n",
    "           croppedMask = maskClass[x:x2,y:y2]\n",
    "           imageName = output +  \"/image_\" + str(j) + \".png\"\n",
    "           imageNameMask = output  + \"/image_\" + str(j) +\"_mask.png\"\n",
    "           misc.imsave(imageName,croppedIm)\n",
    "           misc.imsave(imageNameMask,croppedMask)\n",
    "           os.chmod(imageName , 0o777)\n",
    "           os.chmod(imageNameMask, 0o777)\n",
    "           j+=1"
   ]
  },
  {
   "cell_type": "code",
   "execution_count": null,
   "metadata": {
    "collapsed": true
   },
   "outputs": [],
   "source": [
    "def extractFiles(files, outputFolder):\n",
    "    \"\"\"\n",
    "        Extract all the files of a folder\n",
    "    \"\"\"\n",
    "    for oneFile in files:\n",
    "        name = os.path.splitext(os.path.basename(oneFile))[0]\n",
    "        for key, val in classes.items():\n",
    "            folder = outputFolder\n",
    "            if not os.path.exists(folder):\n",
    "                try:\n",
    "                  original_umask = os.umask(0)\n",
    "                  os.makedirs(folder,0o777)\n",
    "                finally:\n",
    "                  os.umask(original_umask)\n",
    "        print(\"Extracting \" + name)\n",
    "        maskFile = glob.glob(os.path.dirname(oneFile)+\"/\"+name+maskPattern)[0]\n",
    "        extractPatches(outputFolder, oneFile,maskFile)\n",
    "        print(\"Extraction for \", name, \" finished\")"
   ]
  },
  {
   "cell_type": "markdown",
   "metadata": {},
   "source": [
    "# Configuration"
   ]
  },
  {
   "cell_type": "code",
   "execution_count": null,
   "metadata": {
    "collapsed": true
   },
   "outputs": [],
   "source": [
    "patchSize = 256 # Size of the patches\n",
    "filenames_train = ['/root/workspace/data/SVS_train/*.svs'] # Files we will extract for training. You can use pattern suchs as *.svs\n",
    "filenames_test = ['/root/workspace/data/SVS_test/*.svs'] # Files we will extract. for testing You can use pattern suchs as *.svs\n",
    "outputFolder_train = '/root/workspace/data/mylungrgb/' # Output folder for training\n",
    "outputFolder_test= '/root/workspace/data/mylungrgbtest/' # Output folder for testing\n",
    "maskPattern= '*.png' # Pattern for the maskfiles\n",
    "classes = {'neg': 0, 'pos' : 1} # Classes and their value\n",
    "img_classes = {'neg' : 100 , 'pos' : 2000} # Number of patches to extract for each class\n",
    "j=0"
   ]
  },
  {
   "cell_type": "markdown",
   "metadata": {},
   "source": [
    "# Code Execution"
   ]
  },
  {
   "cell_type": "code",
   "execution_count": null,
   "metadata": {},
   "outputs": [],
   "source": [
    "# Get the files for training\n",
    "files_train = []\n",
    "for filename in filenames_train:\n",
    "    files_train.extend(glob.glob(filename))\n",
    "print(files_train)"
   ]
  },
  {
   "cell_type": "code",
   "execution_count": null,
   "metadata": {},
   "outputs": [],
   "source": [
    "# Get the files for testing\n",
    "files_test = []\n",
    "for filename in filenames_test:\n",
    "    files_test.extend(glob.glob(filename))\n",
    "print(files_test)"
   ]
  },
  {
   "cell_type": "code",
   "execution_count": null,
   "metadata": {},
   "outputs": [],
   "source": [
    "# Test extraction\n",
    "extractFiles(files_test,outputFolder_test)"
   ]
  },
  {
   "cell_type": "code",
   "execution_count": null,
   "metadata": {},
   "outputs": [],
   "source": [
    "# Training extraction\n",
    "extractFiles(files_train,outputFolder_train)"
   ]
  }
 ],
 "metadata": {
  "kernelspec": {
   "display_name": "Python 3",
   "language": "python",
   "name": "python3"
  },
  "language_info": {
   "codemirror_mode": {
    "name": "ipython",
    "version": 3
   },
   "file_extension": ".py",
   "mimetype": "text/x-python",
   "name": "python",
   "nbconvert_exporter": "python",
   "pygments_lexer": "ipython3",
   "version": "3.5.2"
  }
 },
 "nbformat": 4,
 "nbformat_minor": 2
}
