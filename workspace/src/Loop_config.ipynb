{
 "cells": [
  {
   "cell_type": "code",
   "execution_count": null,
   "metadata": {
    "collapsed": true
   },
   "outputs": [],
   "source": [
    "import configparser\n",
    "import ast\n",
    "import glob\n",
    "import os\n",
    "import sys\n",
    "import subprocess\n",
    "from subprocess import Popen, PIPE, CalledProcessError"
   ]
  },
  {
   "cell_type": "code",
   "execution_count": null,
   "metadata": {
    "collapsed": true
   },
   "outputs": [],
   "source": [
    "def execute(cmd):\n",
    "    popen = subprocess.Popen(cmd, stdout=subprocess.PIPE, universal_newlines=True)\n",
    "    for stdout_line in iter(popen.stdout.readline, \"\"):\n",
    "        yield stdout_line \n",
    "    popen.stdout.close()\n",
    "    return_code = popen.wait()\n",
    "    if return_code:\n",
    "        raise subprocess.CalledProcessError(return_code, cmd)"
   ]
  },
  {
   "cell_type": "code",
   "execution_count": null,
   "metadata": {},
   "outputs": [],
   "source": [
    "config = configparser.RawConfigParser(interpolation=configparser.ExtendedInterpolation())\n",
    "config.read('cytonet.cfg')"
   ]
  },
  {
   "cell_type": "code",
   "execution_count": null,
   "metadata": {
    "collapsed": true
   },
   "outputs": [],
   "source": [
    "patch_size = 64\n",
    "load_level = 2\n",
    "color_channels = 3\n",
    "experiment_folder = \"/root/workspace/data/trained/true_unet2/\"\n",
    "\n",
    "config.set('general', 'patch_size', str(patch_size))\n",
    "config.set('general', 'load_level', str(load_level))\n",
    "config.set('general', 'color_channels', str(color_channels))"
   ]
  },
  {
   "cell_type": "code",
   "execution_count": null,
   "metadata": {},
   "outputs": [],
   "source": [
    "filenames = '/root/workspace/data/SVS_train/*.svs'\n",
    "folders_prefix = 'abc_'\n",
    "extract_classes=[{'neg': (0,None,2), 'pos' : (1,0,1000), 'back' : (2,100)}]\n",
    "mask_pattern = \"*.png\"\n",
    "extract_folders = []\n",
    "for file in glob.glob(filenames):\n",
    "    rm_list = glob.glob(filenames)\n",
    "    rm_list.remove(file)\n",
    "    config.set('extraction', 'filenames', str(rm_list))\n",
    "    i=1\n",
    "    for extract_class in extract_classes:\n",
    "        foldername = os.path.join('/root/workspace/data/extraction/', folders_prefix +str(i) + \"_\" + os.path.splitext(os.path.basename(file))[0])\n",
    "        extract_folders.append(foldername)\n",
    "        config.set('extraction', 'output_folder', str(foldername))\n",
    "        config.set('extraction', 'classes', str(extract_class))\n",
    "        with open('cytonet.cfg', 'w') as configfile:\n",
    "            config.write(configfile)\n",
    "        for path in execute(['python3','ExtractPatches.py']):\n",
    "            print(path, end=\"\")\n",
    "        w_file = open(os.path.join(foldername,\"testfiles.txt\"),\"w\")\n",
    "        file_list=[]\n",
    "        file_list.append(file)\n",
    "        w_file.write(str(file_list))\n",
    "        w_file.close()\n",
    "        i+=1"
   ]
  },
  {
   "cell_type": "code",
   "execution_count": null,
   "metadata": {},
   "outputs": [],
   "source": [
    "files_pattern = \"*[!k].png\"\n",
    "classes = {'pos': 0, 'neg' : 0}\n",
    "config.set('augmentation', 'files_pattern', files_pattern)\n",
    "config.set('augmentation', 'classes', str(classes))\n",
    "for folder in extract_folders:\n",
    "    config.set('augmentation', 'input_folder', folder)\n",
    "    with open('cytonet.cfg', 'w') as configfile:\n",
    "            config.write(configfile)\n",
    "    for path in execute(['python3','Data_Augmentation.py']):\n",
    "            print(path, end=\"\")"
   ]
  },
  {
   "cell_type": "code",
   "execution_count": null,
   "metadata": {},
   "outputs": [],
   "source": [
    "matrice_files=[]\n",
    "classes = {'pos' : 1, 'neg': 0}\n",
    "files_pattern = \"*[!mask].png\"\n",
    "config.set('saving', 'files_pattern', files_pattern)\n",
    "config.set('saving', 'classes', str(classes))\n",
    "for folder in extract_folders:\n",
    "    config.set('saving', 'input_folder', folder)\n",
    "    matrice = os.path.join(folder,\"matrice_train.h5\")\n",
    "    config.set('saving', 'output_file', matrice)\n",
    "    matrice_files.append(matrice)\n",
    "    with open('cytonet.cfg', 'w') as configfile:\n",
    "            config.write(configfile)\n",
    "    for path in execute(['python3','SaveToData.py']):\n",
    "            print(path, end=\"\")"
   ]
  },
  {
   "cell_type": "code",
   "execution_count": null,
   "metadata": {},
   "outputs": [],
   "source": [
    "classes = {'pos' : 1, 'neg': 0}\n",
    "batch_size=\"128\"\n",
    "valid_portion=\"0.2\"\n",
    "config.set('training', 'batch_size', batch_size)\n",
    "config.set('training', 'valid_portion', valid_portion)\n",
    "config.set('training', 'classes', str(classes))\n",
    "for matrice_file in matrice_files:\n",
    "    config.set('training', 'matrice_file', matrice_file)\n",
    "    experiment_folder=\"/root/workspace/data/trained/\" + os.path.basename(os.path.dirname(matrice_file)) +\"/\" #TODO look / in training\n",
    "    config.set('training', 'experiment_folder', experiment_folder)\n",
    "    with open('cytonet.cfg', 'w') as configfile:\n",
    "            config.write(configfile)\n",
    "    for path in execute(['python3','Training.py']):\n",
    "            print(path, end=\"\")"
   ]
  },
  {
   "cell_type": "code",
   "execution_count": null,
   "metadata": {},
   "outputs": [],
   "source": [
    "stride=\"16\"\n",
    "mask_pattern = \"_mask.png\"\n",
    "color_channels = \"3\"\n",
    "threshold = \"0.5\"\n",
    "output_pattern = \"l${general:load_level}_p${general:patch_size}_s${segmentation:stride}_ts${segmentation:threshold}.png\"\n",
    "config.set('segmentation', 'stride', stride)\n",
    "config.set('segmentation', 'mask_pattern', mask_pattern)\n",
    "config.set('segmentation', 'color_channels', color_channels)\n",
    "config.set('segmentation', 'threshold', threshold)\n",
    "config.set('segmentation', 'output_pattern', output_pattern)\n",
    "for extract_folder in extract_folders:\n",
    "    w_file = open(os.path.join(extract_folder,\"testfiles.txt\"),\"r\")\n",
    "    filenames = w_file.readline()\n",
    "    w_file.close()\n",
    "    config.set('segmentation', 'filenames', filenames)\n",
    "    experiment_folder= extract_folder.replace(\"extraction\", \"trained\")\n",
    "    config.set('segmentation', 'experiment_folder', experiment_folder)\n",
    "    with open('cytonet.cfg', 'w') as configfile:\n",
    "            config.write(configfile)\n",
    "    for path in execute(['python3','Segmentation_full.py']):\n",
    "            print(path, end=\"\")"
   ]
  },
  {
   "cell_type": "code",
   "execution_count": null,
   "metadata": {},
   "outputs": [],
   "source": [
    "images = \"['/root/workspace/data/SVS_train/*.svs']\"\n",
    "transparency = \"110\"\n",
    "display = \"False\"\n",
    "config.set('evaluation', 'transparency', transparency)\n",
    "config.set('evaluation', 'display', display)\n",
    "config.set('evaluation', 'images', images)\n",
    "for extract_folder in extract_folders:\n",
    "    experiment_folder= extract_folder.replace(\"extraction\", \"trained\")\n",
    "    config.set('evaluation', 'experiment_folder', experiment_folder)\n",
    "    with open('cytonet.cfg', 'w') as configfile:\n",
    "            config.write(configfile)\n",
    "    for path in execute(['python3','Evaluation.py']):\n",
    "            print(path, end=\"\")"
   ]
  },
  {
   "cell_type": "code",
   "execution_count": null,
   "metadata": {
    "collapsed": true
   },
   "outputs": [],
   "source": []
  }
 ],
 "metadata": {
  "kernelspec": {
   "display_name": "Python 3",
   "language": "python",
   "name": "python3"
  },
  "language_info": {
   "codemirror_mode": {
    "name": "ipython",
    "version": 3
   },
   "file_extension": ".py",
   "mimetype": "text/x-python",
   "name": "python",
   "nbconvert_exporter": "python",
   "pygments_lexer": "ipython3",
   "version": "3.5.2"
  }
 },
 "nbformat": 4,
 "nbformat_minor": 2
}
